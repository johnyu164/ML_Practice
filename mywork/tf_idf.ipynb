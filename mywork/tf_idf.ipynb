{
 "cells": [
  {
   "cell_type": "code",
   "execution_count": 4,
   "metadata": {},
   "outputs": [],
   "source": [
    "import numpy as np\n",
    "import pandas as pd\n",
    "\n",
    "import jieba\n",
    "#import jieba.analyse\n",
    "import nltk\n",
    "\n",
    "import csv\n",
    "import re"
   ]
  },
  {
   "cell_type": "code",
   "execution_count": 5,
   "metadata": {},
   "outputs": [],
   "source": [
    "data_cut = pd.read_csv('for_CNN_data(73081).csv')"
   ]
  },
  {
   "cell_type": "code",
   "execution_count": 5,
   "metadata": {},
   "outputs": [
    {
     "data": {
      "text/plain": [
       "10055"
      ]
     },
     "execution_count": 5,
     "metadata": {},
     "output_type": "execute_result"
    }
   ],
   "source": [
    "len(data_cut['sentences'].iloc[0])"
   ]
  },
  {
   "cell_type": "code",
   "execution_count": 22,
   "metadata": {},
   "outputs": [],
   "source": [
    "#try1= pd.DataFrame()\n",
    "#try1= data_cut.sort_values('label')\n",
    "#try1= data_cut.groupby('label').apply(lambda x: x.describe()) "
   ]
  },
  {
   "cell_type": "code",
   "execution_count": 6,
   "metadata": {},
   "outputs": [],
   "source": [
    "#取單一類別\n",
    "#label_0=pd.DataFrame()\n",
    "#label_0= try1.sentences_1000_str[try1['label']==0]\n",
    "\n",
    "tfidf_cut = data_cut.sentences\n"
   ]
  },
  {
   "cell_type": "markdown",
   "metadata": {},
   "source": [
    "TFIDF以前是否應該分割test train \n",
    "如果不用 train data 是否該使用原始資料\n",
    "\n",
    "TFIDF \n"
   ]
  },
  {
   "cell_type": "code",
   "execution_count": 3,
   "metadata": {},
   "outputs": [],
   "source": [
    "import os\n",
    "import string\n",
    "from sklearn import feature_extraction\n",
    "from sklearn.feature_extraction.text import TfidfVectorizer\n"
   ]
  },
  {
   "cell_type": "code",
   "execution_count": null,
   "metadata": {},
   "outputs": [],
   "source": [
    "vectorizer = TfidfVectorizer(norm=None)\n",
    "tfidf = vectorizer.fit_transform(tfidf_cut.values.astype('U'))"
   ]
  },
  {
   "cell_type": "code",
   "execution_count": 2,
   "metadata": {},
   "outputs": [
    {
     "ename": "NameError",
     "evalue": "name 'tfidf' is not defined",
     "output_type": "error",
     "traceback": [
      "\u001b[0;31m---------------------------------------------------------------------------\u001b[0m",
      "\u001b[0;31mNameError\u001b[0m                                 Traceback (most recent call last)",
      "\u001b[0;32m<ipython-input-2-ea18ce4de16c>\u001b[0m in \u001b[0;36m<module>\u001b[0;34m()\u001b[0m\n\u001b[0;32m----> 1\u001b[0;31m \u001b[0mtfidf\u001b[0m\u001b[0;34m\u001b[0m\u001b[0m\n\u001b[0m",
      "\u001b[0;31mNameError\u001b[0m: name 'tfidf' is not defined"
     ]
    }
   ],
   "source": [
    "tfidf = "
   ]
  },
  {
   "cell_type": "code",
   "execution_count": 8,
   "metadata": {},
   "outputs": [
    {
     "data": {
      "text/html": [
       "<div>\n",
       "<style scoped>\n",
       "    .dataframe tbody tr th:only-of-type {\n",
       "        vertical-align: middle;\n",
       "    }\n",
       "\n",
       "    .dataframe tbody tr th {\n",
       "        vertical-align: top;\n",
       "    }\n",
       "\n",
       "    .dataframe thead th {\n",
       "        text-align: right;\n",
       "    }\n",
       "</style>\n",
       "<table border=\"1\" class=\"dataframe\">\n",
       "  <thead>\n",
       "    <tr style=\"text-align: right;\">\n",
       "      <th></th>\n",
       "      <th>term</th>\n",
       "      <th>weight</th>\n",
       "    </tr>\n",
       "  </thead>\n",
       "  <tbody>\n",
       "    <tr>\n",
       "      <th>389548</th>\n",
       "      <td>情報</td>\n",
       "      <td>4.065771</td>\n",
       "    </tr>\n",
       "    <tr>\n",
       "      <th>509438</th>\n",
       "      <td>產品</td>\n",
       "      <td>3.400680</td>\n",
       "    </tr>\n",
       "    <tr>\n",
       "      <th>261867</th>\n",
       "      <td>公司</td>\n",
       "      <td>2.713453</td>\n",
       "    </tr>\n",
       "    <tr>\n",
       "      <th>297575</th>\n",
       "      <td>台灣</td>\n",
       "      <td>2.674113</td>\n",
       "    </tr>\n",
       "    <tr>\n",
       "      <th>363276</th>\n",
       "      <td>工作</td>\n",
       "      <td>2.284196</td>\n",
       "    </tr>\n",
       "    <tr>\n",
       "      <th>219278</th>\n",
       "      <td>中國</td>\n",
       "      <td>2.178629</td>\n",
       "    </tr>\n",
       "    <tr>\n",
       "      <th>205227</th>\n",
       "      <td>一個</td>\n",
       "      <td>2.071939</td>\n",
       "    </tr>\n",
       "    <tr>\n",
       "      <th>243586</th>\n",
       "      <td>使用</td>\n",
       "      <td>2.014241</td>\n",
       "    </tr>\n",
       "    <tr>\n",
       "      <th>403302</th>\n",
       "      <td>投資</td>\n",
       "      <td>1.955423</td>\n",
       "    </tr>\n",
       "    <tr>\n",
       "      <th>555999</th>\n",
       "      <td>美國</td>\n",
       "      <td>1.827157</td>\n",
       "    </tr>\n",
       "    <tr>\n",
       "      <th>428538</th>\n",
       "      <td>日本</td>\n",
       "      <td>1.800268</td>\n",
       "    </tr>\n",
       "    <tr>\n",
       "      <th>508935</th>\n",
       "      <td>生活</td>\n",
       "      <td>1.772564</td>\n",
       "    </tr>\n",
       "    <tr>\n",
       "      <th>365807</th>\n",
       "      <td>市場</td>\n",
       "      <td>1.743405</td>\n",
       "    </tr>\n",
       "    <tr>\n",
       "      <th>412760</th>\n",
       "      <td>提供</td>\n",
       "      <td>1.663885</td>\n",
       "    </tr>\n",
       "    <tr>\n",
       "      <th>588183</th>\n",
       "      <td>蘋果</td>\n",
       "      <td>1.626091</td>\n",
       "    </tr>\n",
       "    <tr>\n",
       "      <th>399962</th>\n",
       "      <td>手機</td>\n",
       "      <td>1.561568</td>\n",
       "    </tr>\n",
       "    <tr>\n",
       "      <th>310125</th>\n",
       "      <td>問題</td>\n",
       "      <td>1.557303</td>\n",
       "    </tr>\n",
       "    <tr>\n",
       "      <th>250393</th>\n",
       "      <td>健康</td>\n",
       "      <td>1.516833</td>\n",
       "    </tr>\n",
       "    <tr>\n",
       "      <th>4209</th>\n",
       "      <td>ai</td>\n",
       "      <td>1.474933</td>\n",
       "    </tr>\n",
       "    <tr>\n",
       "      <th>432834</th>\n",
       "      <td>時間</td>\n",
       "      <td>1.445904</td>\n",
       "    </tr>\n",
       "  </tbody>\n",
       "</table>\n",
       "</div>"
      ],
      "text/plain": [
       "       term    weight\n",
       "389548   情報  4.065771\n",
       "509438   產品  3.400680\n",
       "261867   公司  2.713453\n",
       "297575   台灣  2.674113\n",
       "363276   工作  2.284196\n",
       "219278   中國  2.178629\n",
       "205227   一個  2.071939\n",
       "243586   使用  2.014241\n",
       "403302   投資  1.955423\n",
       "555999   美國  1.827157\n",
       "428538   日本  1.800268\n",
       "508935   生活  1.772564\n",
       "365807   市場  1.743405\n",
       "412760   提供  1.663885\n",
       "588183   蘋果  1.626091\n",
       "399962   手機  1.561568\n",
       "310125   問題  1.557303\n",
       "250393   健康  1.516833\n",
       "4209     ai  1.474933\n",
       "432834   時間  1.445904"
      ]
     },
     "execution_count": 8,
     "metadata": {},
     "output_type": "execute_result"
    }
   ],
   "source": [
    "weights = np.asarray(tfidf.mean(axis=0)).ravel().tolist()\n",
    "weights_df = pd.DataFrame({'term': vectorizer.get_feature_names(), 'weight': weights})\n",
    "weights_df.sort_values(by='weight', ascending=False).head(20)"
   ]
  },
  {
   "cell_type": "code",
   "execution_count": 11,
   "metadata": {},
   "outputs": [],
   "source": [
    "tfidf_dict=weights_df.sort_values(by='weight', ascending=False).set_index('term')['weight'].to_dict()"
   ]
  },
  {
   "cell_type": "code",
   "execution_count": 13,
   "metadata": {},
   "outputs": [],
   "source": [
    "#save dict \n",
    "\n",
    "import pickle\n",
    "\n",
    "with open(\"TFIDF_Dict.txt\", \"wb\") as myFile:\n",
    "    pickle.dump(tfidf_dict, myFile)"
   ]
  },
  {
   "cell_type": "code",
   "execution_count": 4,
   "metadata": {},
   "outputs": [],
   "source": [
    "#load file\n",
    "\n",
    "import pickle\n",
    "\n",
    "with open(\"TFIDF_Dict.txt\", \"rb\") as myFile:\n",
    "    load_TFIDF = pickle.load(myFile)\n"
   ]
  },
  {
   "cell_type": "code",
   "execution_count": 133,
   "metadata": {},
   "outputs": [],
   "source": [
    "#mapping\n",
    "\n",
    "#reverse dict\n",
    "re_TFIDF = {v:k for k, v in load_TFIDF.items()}\n",
    "\n",
    "#print map(subs.get, my_lst, my_lst)"
   ]
  },
  {
   "cell_type": "code",
   "execution_count": 5,
   "metadata": {},
   "outputs": [
    {
     "name": "stdout",
     "output_type": "stream",
     "text": [
      "0\n",
      "10000\n",
      "20000\n",
      "30000\n",
      "40000\n",
      "50000\n",
      "60000\n",
      "70000\n"
     ]
    }
   ],
   "source": [
    "#string to list \n",
    "from ast import literal_eval\n",
    "\n",
    "word_list=[]\n",
    "str_need_cut=data_cut.sentences\n",
    "\n",
    "for i in range(len(str_need_cut)):\n",
    "    word_list.append(literal_eval(str_need_cut[i]))\n",
    "    if(i%10000==0):\n",
    "        print(i)"
   ]
  },
  {
   "cell_type": "code",
   "execution_count": 75,
   "metadata": {},
   "outputs": [],
   "source": [
    "test=word_list\n",
    "#map(load_TFIDF.get, test[0])"
   ]
  },
  {
   "cell_type": "code",
   "execution_count": 76,
   "metadata": {},
   "outputs": [
    {
     "name": "stdout",
     "output_type": "stream",
     "text": [
      "0 -100.0\n",
      "3000 0.00441569989455065\n",
      "6000 0.07244481126055857\n",
      "9000 1.6260910333419045\n",
      "12000 0.7313300550592279\n",
      "15000 0.2454916112758527\n",
      "18000 0.4931949542910347\n",
      "21000 0.022778916417636068\n",
      "24000 0.030574558053502954\n",
      "27000 0.26478809828357497\n",
      "30000 0.01659711977362017\n",
      "33000 -100.0\n",
      "36000 -100.0\n",
      "39000 0.736125290147424\n",
      "42000 0.5614428861933313\n",
      "45000 0.11950927447141099\n",
      "48000 0.0013411751487510904\n",
      "51000 -100.0\n",
      "54000 0.22049752550592508\n",
      "57000 0.6996662218859154\n",
      "60000 0.4491967599830064\n",
      "63000 2.6741128622674064\n",
      "66000 0.00030379236980112765\n",
      "69000 0.08203188377082443\n",
      "72000 0.058706204718611626\n"
     ]
    }
   ],
   "source": [
    "#無對應值補-100\n",
    "lstval = []\n",
    "for i in range(len(test)):\n",
    "    push=[ load_TFIDF.get(k, -100.00) for k in test[i]]\n",
    "    lstval.append(push)\n",
    "    if(i%3000==0):\n",
    "        print(i,push[0])"
   ]
  },
  {
   "cell_type": "code",
   "execution_count": 79,
   "metadata": {},
   "outputs": [
    {
     "name": "stdout",
     "output_type": "stream",
     "text": [
      "0\n",
      "3000\n",
      "6000\n",
      "9000\n",
      "12000\n",
      "15000\n",
      "18000\n",
      "21000\n",
      "24000\n",
      "27000\n",
      "30000\n",
      "33000\n",
      "36000\n",
      "39000\n",
      "42000\n",
      "45000\n",
      "48000\n",
      "51000\n",
      "54000\n",
      "57000\n",
      "60000\n",
      "63000\n",
      "66000\n",
      "69000\n",
      "72000\n"
     ]
    }
   ],
   "source": [
    "#排序\n",
    "lstval_sort=lstval\n",
    "for i in range(len(lstval_sort)):\n",
    "    lstval_sort[i] = sorted(lstval_sort[i],reverse=True)\n",
    "    if(i%3000==0):\n",
    "        print(i)"
   ]
  },
  {
   "cell_type": "code",
   "execution_count": 45,
   "metadata": {},
   "outputs": [
    {
     "data": {
      "text/plain": [
       "1601"
      ]
     },
     "execution_count": 45,
     "metadata": {},
     "output_type": "execute_result"
    }
   ],
   "source": [
    "len(lstval[0])"
   ]
  },
  {
   "cell_type": "code",
   "execution_count": 72,
   "metadata": {},
   "outputs": [],
   "source": [
    "#去除無對應值\n",
    "count=0\n",
    "for i in range(len(remove_100)):\n",
    "    if(len(remove_100[i])>200):\n",
    "        count+=1"
   ]
  },
  {
   "cell_type": "code",
   "execution_count": 125,
   "metadata": {},
   "outputs": [
    {
     "name": "stdout",
     "output_type": "stream",
     "text": [
      "0\n",
      "3000\n",
      "6000\n",
      "9000\n",
      "12000\n",
      "15000\n",
      "18000\n",
      "21000\n",
      "24000\n",
      "27000\n",
      "30000\n",
      "33000\n",
      "36000\n",
      "39000\n",
      "42000\n",
      "45000\n",
      "48000\n",
      "51000\n",
      "54000\n",
      "57000\n",
      "60000\n",
      "63000\n",
      "66000\n",
      "69000\n",
      "72000\n"
     ]
    }
   ],
   "source": [
    "remove_100= lstval\n",
    "for j in range(len(remove_100)):\n",
    "    for i in range(len(remove_100[j])):\n",
    "        try:\n",
    "            remove_100[j].remove(-100.00)\n",
    "        except:\n",
    "            break\n",
    "    if(j%3000==0):\n",
    "        print(j)"
   ]
  },
  {
   "cell_type": "code",
   "execution_count": 127,
   "metadata": {},
   "outputs": [],
   "source": [
    "first_200=[]\n",
    "for i in range(len(remove_100)):\n",
    "    try:\n",
    "        first_200.append(remove_100[i][:200])\n",
    "    except:\n",
    "        pass"
   ]
  },
  {
   "cell_type": "code",
   "execution_count": 135,
   "metadata": {},
   "outputs": [
    {
     "name": "stdout",
     "output_type": "stream",
     "text": [
      "0 產品\n",
      "3000 提供\n",
      "6000 產品\n",
      "9000 蘋果\n",
      "12000 情報\n",
      "15000 提供\n",
      "18000 使用\n",
      "21000 使用\n",
      "24000 台灣\n",
      "27000 日本\n",
      "30000 公司\n",
      "33000 公司\n",
      "36000 產品\n",
      "39000 產品\n",
      "42000 時間\n",
      "45000 一個\n",
      "48000 台灣\n",
      "51000 工作\n",
      "54000 台灣\n",
      "57000 工作\n",
      "60000 台灣\n",
      "63000 產品\n",
      "66000 公司\n",
      "69000 投資\n",
      "72000 產品\n"
     ]
    }
   ],
   "source": [
    "#revers mapping top200 \n",
    "re_TFIDF\n",
    "\n",
    "word_200 = []\n",
    "for i in range(len(first_200)):\n",
    "    push=[ re_TFIDF.get(k, 0) for k in first_200[i]]\n",
    "    word_200.append(push)\n",
    "    if(i%3000==0):\n",
    "        print(i,push[0])"
   ]
  },
  {
   "cell_type": "code",
   "execution_count": 148,
   "metadata": {},
   "outputs": [],
   "source": [
    "str200=[]\n",
    "for i in range(len(word_200)):\n",
    "    str200.append(' '.join(word_200[i]))\n"
   ]
  },
  {
   "cell_type": "code",
   "execution_count": 151,
   "metadata": {},
   "outputs": [
    {
     "data": {
      "text/plain": [
       "73081"
      ]
     },
     "execution_count": 151,
     "metadata": {},
     "output_type": "execute_result"
    }
   ],
   "source": [
    "len(str200)"
   ]
  },
  {
   "cell_type": "code",
   "execution_count": 74,
   "metadata": {},
   "outputs": [],
   "source": [
    "TFIDF_cut= pd.DataFrame()\n",
    "TFIDF_cut['origin']=lstval\n",
    "#TFIDF_cut['remove_100']=remove_100\n",
    "#TFIDF_cut['first_200']=first_200\n",
    "TFIDF_cut['word_200']=word_200"
   ]
  },
  {
   "cell_type": "code",
   "execution_count": 152,
   "metadata": {},
   "outputs": [],
   "source": [
    "TFIDF_cut['str_200']=str200"
   ]
  },
  {
   "cell_type": "code",
   "execution_count": 160,
   "metadata": {},
   "outputs": [],
   "source": [
    "TFIDF_cut['label']=data_cut.label"
   ]
  },
  {
   "cell_type": "code",
   "execution_count": 162,
   "metadata": {},
   "outputs": [],
   "source": [
    "TFIDF_cut=TFIDF_cut.drop(['origin_sort', 'first_200','origin_sort','word_200'], axis=1)\n",
    "TFIDF_cut=TFIDF_cut.drop(['origin'], axis=1)"
   ]
  },
  {
   "cell_type": "code",
   "execution_count": 167,
   "metadata": {},
   "outputs": [
    {
     "data": {
      "text/plain": [
       "remove_100    [2.7134530227971245, 2.7134530227971245, 2.713...\n",
       "str_200       公司 公司 公司 公司 公司 台灣 台灣 台灣 台灣 市場 市場 企業 表示 表示 推出 全...\n",
       "label                                                         3\n",
       "Name: 10, dtype: object"
      ]
     },
     "execution_count": 167,
     "metadata": {},
     "output_type": "execute_result"
    }
   ],
   "source": [
    "TFIDF_cut.iloc[10]"
   ]
  },
  {
   "cell_type": "code",
   "execution_count": 169,
   "metadata": {},
   "outputs": [],
   "source": [
    "TFIDF_cut.to_csv('TFIDF_cut.csv', index=False)"
   ]
  },
  {
   "cell_type": "code",
   "execution_count": null,
   "metadata": {},
   "outputs": [],
   "source": []
  }
 ],
 "metadata": {
  "kernelspec": {
   "display_name": "Python 3",
   "language": "python",
   "name": "python3"
  },
  "language_info": {
   "codemirror_mode": {
    "name": "ipython",
    "version": 3
   },
   "file_extension": ".py",
   "mimetype": "text/x-python",
   "name": "python",
   "nbconvert_exporter": "python",
   "pygments_lexer": "ipython3",
   "version": "3.6.4"
  }
 },
 "nbformat": 4,
 "nbformat_minor": 2
}
