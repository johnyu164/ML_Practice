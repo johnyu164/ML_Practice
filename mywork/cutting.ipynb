{
 "cells": [
  {
   "cell_type": "code",
   "execution_count": null,
   "metadata": {},
   "outputs": [],
   "source": [
    "斷詞 \n",
    "\n",
    "繁轉簡(jieba)\n",
    "\n",
    "-hanzi V\n",
    "\n",
    "-openCC(未使用)\n",
    "\n",
    "jieba\n",
    "\n",
    "\n",
    "\n",
    "篩選法則\n"
   ]
  },
  {
   "cell_type": "code",
   "execution_count": 1,
   "metadata": {},
   "outputs": [],
   "source": [
    "import numpy as np\n",
    "import pandas as pd\n",
    "\n",
    "import jieba\n",
    "#import jieba.analyse\n",
    "import nltk\n",
    "\n",
    "import csv\n",
    "import re"
   ]
  },
  {
   "cell_type": "code",
   "execution_count": 2,
   "metadata": {},
   "outputs": [],
   "source": [
    "stopWords=[]\n",
    "segments=[]\n",
    "\n",
    "# 讀入停用詞檔 \n",
    "# 有少許根據詞頻後來追加\n",
    "with open('stopWords.txt', 'r', encoding='UTF-8') as file:\n",
    "    for datastopwords in file.readlines():\n",
    "        datastopwords = datastopwords.strip()\n",
    "        stopWords.append(datastopwords)"
   ]
  },
  {
   "cell_type": "code",
   "execution_count": 3,
   "metadata": {},
   "outputs": [],
   "source": [
    "data_all = pd.read_csv('all_data_simple.csv')"
   ]
  },
  {
   "cell_type": "code",
   "execution_count": 4,
   "metadata": {},
   "outputs": [],
   "source": [
    "data_all = data_all.drop(data_all.columns[0], axis=1)"
   ]
  },
  {
   "cell_type": "code",
   "execution_count": 4,
   "metadata": {},
   "outputs": [
    {
     "data": {
      "text/plain": [
       "content    iPhoneX萤幕出现绿色异常情形，包括美国、澳洲、台湾与中国等地区，皆有用户陆续反映回报。...\n",
       "title         iPhone X 螢幕出現「綠線」異常！全球至少 25 起案例傳出 | 自由電子報 3C科技\n",
       "class                                                      0\n",
       "Name: 0, dtype: object"
      ]
     },
     "execution_count": 4,
     "metadata": {},
     "output_type": "execute_result"
    }
   ],
   "source": [
    "data_all.iloc[0]"
   ]
  },
  {
   "cell_type": "code",
   "execution_count": null,
   "metadata": {},
   "outputs": [
    {
     "name": "stderr",
     "output_type": "stream",
     "text": [
      "/opt/conda/lib/python3.6/site-packages/ipykernel_launcher.py:5: SettingWithCopyWarning: \n",
      "A value is trying to be set on a copy of a slice from a DataFrame\n",
      "\n",
      "See the caveats in the documentation: http://pandas.pydata.org/pandas-docs/stable/indexing.html#indexing-view-versus-copy\n",
      "  \"\"\"\n"
     ]
    },
    {
     "name": "stdout",
     "output_type": "stream",
     "text": [
      "0 /94473\n"
     ]
    }
   ],
   "source": [
    "from hanziconv import HanziConv \n",
    "#繁轉簡\n",
    "for c_cont in range(len(data_all.content)):\n",
    "    try:\n",
    "        data_all.content[c_cont]= HanziConv.toSimplified(data_all.content[c_cont])\n",
    "        if(c_cont%1000==0):\n",
    "            print(c_cont,'/94473')\n",
    "      \n",
    "    except:\n",
    "        print (c_cont)"
   ]
  },
  {
   "cell_type": "code",
   "execution_count": 7,
   "metadata": {},
   "outputs": [],
   "source": [
    "data_all.to_csv('../jt071080/all_data_simple.csv',index= False)"
   ]
  },
  {
   "cell_type": "code",
   "execution_count": 11,
   "metadata": {},
   "outputs": [],
   "source": [
    "b=[[]]\n",
    "with open('all_data_simple_cut.csv', 'a') as writeFile:\n",
    "    writer = csv.writer(writeFile, dialect='excel')\n",
    "    writer.writerows(b)\n",
    "\n",
    "writeFile.close()"
   ]
  },
  {
   "cell_type": "code",
   "execution_count": 5,
   "metadata": {},
   "outputs": [],
   "source": [
    "#過濾掉停用詞\n",
    "\n",
    "def filt(seg_list):\n",
    "    \n",
    "    remainderWords = list(filter(lambda a: a not in stopWords and a != '\\n', seg_list))\n",
    "\n",
    "    remainderWords = list(filter(lambda a: len(a)<= 6, remainderWords))\n",
    "\n",
    "    below3 = re.compile(r'\\b[a-zA-Z0-9]{1,3}\\b')\n",
    "    above8 = re.compile(r'\\b[a-zA-Z0-9]{8,}\\b')\n",
    "    years = re.compile(r'\\b[0-9]{4}\\b')\n",
    "\n",
    "    remainderWords = list(filter(lambda a: not below3.match(a) and \n",
    "                                 not above8.match(a) and \n",
    "                                 not years.match(a), remainderWords))\n",
    "\n",
    "    return remainderWords\n"
   ]
  },
  {
   "cell_type": "code",
   "execution_count": 11,
   "metadata": {},
   "outputs": [
    {
     "name": "stderr",
     "output_type": "stream",
     "text": [
      "Building prefix dict from the default dictionary ...\n",
      "Loading model from cache /tmp/jieba.cache\n",
      "Loading model cost 0.653 seconds.\n",
      "Prefix dict has been built succesfully.\n"
     ]
    },
    {
     "name": "stdout",
     "output_type": "stream",
     "text": [
      "0 /94473\n",
      "1000 /94473\n",
      "2000 /94473\n",
      "3000 /94473\n",
      "4000 /94473\n",
      "5000 /94473\n",
      "6000 /94473\n",
      "7000 /94473\n",
      "8000 /94473\n",
      "9000 /94473\n",
      "10000 /94473\n",
      "11000 /94473\n",
      "12000 /94473\n",
      "13000 /94473\n",
      "14000 /94473\n",
      "15000 /94473\n",
      "16000 /94473\n",
      "17000 /94473\n",
      "18000 /94473\n",
      "19000 /94473\n",
      "20000 /94473\n",
      "21000 /94473\n",
      "22000 /94473\n",
      "23000 /94473\n",
      "24000 /94473\n",
      "25000 /94473\n",
      "26000 /94473\n",
      "27000 /94473\n",
      "28000 /94473\n",
      "29000 /94473\n",
      "30000 /94473\n",
      "31000 /94473\n",
      "32000 /94473\n",
      "33000 /94473\n",
      "34000 /94473\n",
      "35000 /94473\n",
      "36000 /94473\n",
      "37000 /94473\n",
      "38000 /94473\n",
      "39000 /94473\n",
      "40000 /94473\n",
      "41000 /94473\n",
      "42000 /94473\n",
      "43000 /94473\n",
      "44000 /94473\n",
      "45000 /94473\n",
      "46000 /94473\n",
      "47000 /94473\n",
      "48000 /94473\n",
      "49000 /94473\n",
      "50000 /94473\n",
      "51000 /94473\n",
      "52000 /94473\n",
      "53000 /94473\n",
      "54000 /94473\n",
      "55000 /94473\n",
      "56000 /94473\n",
      "57000 /94473\n",
      "58000 /94473\n",
      "59000 /94473\n",
      "60000 /94473\n",
      "61000 /94473\n",
      "62000 /94473\n",
      "63000 /94473\n",
      "64000 /94473\n",
      "65000 /94473\n",
      "66000 /94473\n",
      "67000 /94473\n",
      "68000 /94473\n",
      "69000 /94473\n",
      "70000 /94473\n",
      "71000 /94473\n",
      "72000 /94473\n",
      "73000 /94473\n",
      "74000 /94473\n",
      "75000 /94473\n",
      "76000 /94473\n",
      "77000 /94473\n",
      "78000 /94473\n",
      "79000 /94473\n",
      "80000 /94473\n",
      "81000 /94473\n",
      "82000 /94473\n",
      "83000 /94473\n",
      "84000 /94473\n",
      "85000 /94473\n",
      "86000 /94473\n",
      "87000 /94473\n",
      "88000 /94473\n",
      "89000 /94473\n",
      "90000 /94473\n",
      "91000 /94473\n",
      "92000 /94473\n",
      "93000 /94473\n",
      "94000 /94473\n"
     ]
    }
   ],
   "source": [
    "#main\n",
    "\n",
    "with open('all_data_simple_cut.csv', 'a') as writeFile:\n",
    "    writer = csv.writer(writeFile, dialect='excel')\n",
    "    \n",
    "    for i in data_all.index:\n",
    "        try:\n",
    "            seg_list = jieba.lcut(data_all.content[i], cut_all=False, HMM=True)\n",
    "            remainderWords = filt(seg_list)\n",
    "            add_row=[]\n",
    "            add_row.append(remainderWords)\n",
    "            writer.writerows(add_row)\n",
    "            if(i%1000==0):\n",
    "                print(i,'/94473')\n",
    "        except:\n",
    "            print(i)\n",
    "        \n",
    "writeFile.close()"
   ]
  },
  {
   "cell_type": "code",
   "execution_count": 6,
   "metadata": {},
   "outputs": [],
   "source": [
    "after_split = list(data_all.content)\n",
    "#after_split = pd.DataFrame(data=data_all.iloc[0:10000])"
   ]
  },
  {
   "cell_type": "code",
   "execution_count": 7,
   "metadata": {},
   "outputs": [
    {
     "name": "stderr",
     "output_type": "stream",
     "text": [
      "Building prefix dict from the default dictionary ...\n",
      "Dumping model to file cache /tmp/jieba.cache\n",
      "Loading model cost 0.891 seconds.\n",
      "Prefix dict has been built succesfully.\n"
     ]
    },
    {
     "name": "stdout",
     "output_type": "stream",
     "text": [
      "0 /94473\n",
      "3000 /94473\n",
      "6000 /94473\n",
      "9000 /94473\n",
      "12000 /94473\n",
      "15000 /94473\n",
      "18000 /94473\n",
      "21000 /94473\n",
      "24000 /94473\n",
      "27000 /94473\n",
      "30000 /94473\n",
      "33000 /94473\n",
      "36000 /94473\n",
      "39000 /94473\n",
      "42000 /94473\n",
      "45000 /94473\n",
      "48000 /94473\n",
      "51000 /94473\n",
      "54000 /94473\n",
      "57000 /94473\n",
      "60000 /94473\n",
      "63000 /94473\n",
      "66000 /94473\n",
      "69000 /94473\n",
      "72000 /94473\n",
      "75000 /94473\n",
      "78000 /94473\n",
      "81000 /94473\n",
      "84000 /94473\n",
      "87000 /94473\n",
      "90000 /94473\n",
      "93000 /94473\n"
     ]
    }
   ],
   "source": [
    "#main\n",
    "after_clean=after_split\n",
    "\n",
    "for i in range(len(after_split)):\n",
    "    \n",
    "    after_clean[i] = filt(after_split[i])\n",
    "    after_split[i] = jieba.lcut(str(after_split[i]), cut_all=False, HMM=True)\n",
    "    \n",
    "    if(i%1000==0):\n",
    "        print(i,'/94473')\n"
   ]
  },
  {
   "cell_type": "code",
   "execution_count": 10,
   "metadata": {},
   "outputs": [
    {
     "data": {
      "text/plain": [
       "content    市场看好苹果AirPods出货表现。凯基投顾分析师郭明錤预估，明年第一季AirPods出货可...\n",
       "title         AirPods 2018 年 Q1 出貨看佳，下半年傳有新品 | TechNews 科技新報\n",
       "class                                                      0\n",
       "new_cut    [[, ', 市, ', ,,  , ', 场, ', ,,  , ', 苹, ', ,, ...\n",
       "Name: 203, dtype: object"
      ]
     },
     "execution_count": 10,
     "metadata": {},
     "output_type": "execute_result"
    }
   ],
   "source": [
    "data_all.iloc[203]"
   ]
  },
  {
   "cell_type": "code",
   "execution_count": 9,
   "metadata": {},
   "outputs": [],
   "source": [
    "#新的切法\n",
    "data_all['new_cut']=after_clean"
   ]
  },
  {
   "cell_type": "code",
   "execution_count": null,
   "metadata": {},
   "outputs": [],
   "source": []
  },
  {
   "cell_type": "code",
   "execution_count": null,
   "metadata": {},
   "outputs": [],
   "source": []
  },
  {
   "cell_type": "code",
   "execution_count": 16,
   "metadata": {},
   "outputs": [],
   "source": [
    "with open('all_data_simple_cut_2.csv', 'w') as writeFile:\n",
    "    \n",
    "    data_all.to_csv(writeFile,index= False)\n",
    "    \n",
    "writeFile.close()"
   ]
  },
  {
   "cell_type": "code",
   "execution_count": 69,
   "metadata": {},
   "outputs": [
    {
     "data": {
      "text/plain": [
       "(60005, 4)"
      ]
     },
     "execution_count": 69,
     "metadata": {},
     "output_type": "execute_result"
    }
   ],
   "source": [
    "data_all_cut.shape"
   ]
  },
  {
   "cell_type": "code",
   "execution_count": 8,
   "metadata": {},
   "outputs": [],
   "source": [
    "remainderWords = filt(seg_list)"
   ]
  },
  {
   "cell_type": "code",
   "execution_count": 53,
   "metadata": {},
   "outputs": [],
   "source": [
    "data_all_cut = pd.read_csv('all_data_simple_cut.csv')"
   ]
  },
  {
   "cell_type": "code",
   "execution_count": 11,
   "metadata": {},
   "outputs": [],
   "source": [
    "#讀檔\n",
    "import csv\n",
    "\n",
    "with open('汽車_網頁資料(10005)_done.csv', 'r') as f:\n",
    "    reader = csv.reader(f)\n",
    "    your_list = list(reader)"
   ]
  },
  {
   "cell_type": "code",
   "execution_count": 18,
   "metadata": {},
   "outputs": [
    {
     "name": "stdout",
     "output_type": "stream",
     "text": [
      "常用词频度统计结果\n",
      "与 : 42389\n",
      "将 : 22271\n",
      "为 : 20006\n",
      "让 : 16642\n",
      "会 : 14773\n",
      "年 : 14749\n",
      "并 : 13555\n",
      "后 : 12666\n",
      "中 : 12268\n",
      "于 : 11973\n",
      "车 : 11957\n",
      "则 : 11057\n",
      "这 : 10247\n",
      "还 : 8712\n",
      "新 : 8659\n",
      "下 : 8588\n",
      "时 : 7687\n",
      "月 : 7496\n",
      "最 : 7125\n",
      "从 : 6865\n",
      "对 : 6646\n",
      "人 : 6608\n",
      "来 : 6522\n",
      "小 : 6404\n",
      "内 : 6375\n",
      "前 : 6362\n",
      "吋 : 5106\n",
      "高 : 4975\n",
      "再 : 4918\n",
      "秒 : 4859\n",
      "‧ : 4636\n",
      "▲ : 4632\n",
      "升 : 4616\n",
      "已 : 4432\n",
      "说 : 4148\n",
      "全 : 4132\n",
      "万 : 3959\n",
      "皆 : 3566\n",
      "着 : 3560\n",
      "日 : 3437\n",
      "好 : 3417\n",
      "式 : 3391\n",
      "仅 : 3351\n",
      "却 : 3308\n",
      "外 : 3286\n",
      "较 : 3280\n",
      "双 : 3187\n",
      "辆 : 3117\n",
      "款 : 3097\n",
      "版 : 3044\n",
      "只 : 2890\n",
      "约 : 2873\n",
      "跑 : 2859\n",
      "台 : 2788\n",
      "化 : 2774\n",
      "给 : 2765\n",
      "过 : 2547\n",
      "做 : 2544\n",
      "个 : 2522\n",
      "需 : 2457\n",
      "佈 : 2418\n",
      "型 : 2266\n",
      "装 : 2263\n",
      "该 : 2238\n",
      "图 : 2212\n",
      "当 : 2083\n",
      "度 : 2078\n",
      "　 : 2055\n",
      "瘾 : 2047\n",
      "感 : 2027\n",
      "们 : 1998\n",
      "元 : 1970\n",
      "匹 : 1901\n",
      "想 : 1887\n",
      "← : 1875\n",
      "低 : 1783\n",
      "亦 : 1716\n",
      "达 : 1644\n",
      "座 : 1637\n",
      "请 : 1599\n",
      "● : 1582\n",
      "组 : 1528\n",
      "性 : 1481\n",
      "曾 : 1446\n",
      "使 : 1429\n",
      "没 : 1396\n",
      "• : 1391\n",
      "吗 : 1387\n",
      "厂 : 1350\n",
      "灯 : 1338\n",
      "开 : 1308\n",
      "处 : 1270\n",
      "无 : 1208\n",
      "买 : 1186\n",
      "註 : 1167\n",
      "连 : 1162\n",
      "点 : 1150\n",
      "正 : 1131\n",
      "太 : 1119\n",
      "号 : 1110\n"
     ]
    }
   ],
   "source": [
    "#簡單詞頻\n",
    "from collections import Counter\n",
    "\n",
    "c = Counter()    \n",
    "\n",
    "\n",
    "for x in range(len(your_list)):   \n",
    "    for y in your_list[x]:\n",
    "        if len(y)==1:            \n",
    "            c[y] += 1    \n",
    "print('常用词频度统计结果')    \n",
    "for (k,v) in c.most_common(100):        \n",
    "    print(k,':',v)\n",
    "\n"
   ]
  },
  {
   "cell_type": "code",
   "execution_count": 3,
   "metadata": {},
   "outputs": [
    {
     "name": "stdout",
     "output_type": "stream",
     "text": [
      "['为', '推送', '解读', '最前沿', '最有料', '科技', '创投', '资讯', '一级', '市场', '金融信息', '系统', '服务提供商', '聚集', '全球', '最', '优秀', '创业者', '项目', '融资', '率', '接近', '领跑', '行业']\n"
     ]
    }
   ],
   "source": [
    "print(your_list)"
   ]
  },
  {
   "cell_type": "markdown",
   "metadata": {},
   "source": [
    "## 問題小記\n",
    "\n",
    "duplicate \n",
    "\n",
    "CSS\n"
   ]
  },
  {
   "cell_type": "code",
   "execution_count": 5,
   "metadata": {},
   "outputs": [
    {
     "data": {
      "image/png": "[encoded data removed]",
      "text/plain": [
       "<Figure size 432x288 with 1 Axes>"
      ]
     },
     "metadata": {},
     "output_type": "display_data"
    }
   ],
   "source": [
    "#文字雲\n",
    "import matplotlib.pyplot as plt\n",
    "from wordcloud import WordCloud\n",
    "\n",
    "for k in range(len(your_list)):\n",
    "    unique_string=(\" \").join(your_list[k])\n",
    "my_wordcloud = WordCloud().generate(unique_string)\n",
    "\n",
    "plt.imshow(my_wordcloud)\n",
    "plt.axis(\"off\")\n",
    "plt.show()\n"
   ]
  },
  {
   "cell_type": "code",
   "execution_count": 12,
   "metadata": {},
   "outputs": [
    {
     "ename": "NameError",
     "evalue": "name '詞頻' is not defined",
     "output_type": "error",
     "traceback": [
      "\u001b[0;31m---------------------------------------------------------------------------\u001b[0m",
      "\u001b[0;31mNameError\u001b[0m                                 Traceback (most recent call last)",
      "\u001b[0;32m<ipython-input-12-ffddfc947b26>\u001b[0m in \u001b[0;36m<module>\u001b[0;34m()\u001b[0m\n\u001b[0;32m----> 1\u001b[0;31m \u001b[0m詞頻\u001b[0m\u001b[0;34m\u001b[0m\u001b[0m\n\u001b[0m\u001b[1;32m      2\u001b[0m \u001b[0;34m\u001b[0m\u001b[0m\n\u001b[1;32m      3\u001b[0m \u001b[0m圖表\u001b[0m\u001b[0;34m\u001b[0m\u001b[0m\n",
      "\u001b[0;31mNameError\u001b[0m: name '詞頻' is not defined"
     ]
    }
   ],
   "source": [
    "詞頻 \n",
    "分布率\n",
    "\n",
    "圖表 \n",
    "\n",
    "關鍵字重疊差異\n",
    "\n",
    "用keywords"
   ]
  },
  {
   "cell_type": "code",
   "execution_count": null,
   "metadata": {},
   "outputs": [],
   "source": []
  }
 ],
 "metadata": {
  "kernelspec": {
   "display_name": "Python 3",
   "language": "python",
   "name": "python3"
  },
  "language_info": {
   "codemirror_mode": {
    "name": "ipython",
    "version": 3
   },
   "file_extension": ".py",
   "mimetype": "text/x-python",
   "name": "python",
   "nbconvert_exporter": "python",
   "pygments_lexer": "ipython3",
   "version": "3.6.4"
  }
 },
 "nbformat": 4,
 "nbformat_minor": 2
}
