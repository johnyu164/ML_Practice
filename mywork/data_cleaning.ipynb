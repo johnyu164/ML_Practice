{
 "cells": [
  {
   "cell_type": "markdown",
   "metadata": {},
   "source": [
    "## 基本資料清理\n",
    "\n",
    "空資料\n",
    "\n",
    "資料撈錯,cbody網頁本身資料有誤 \n",
    "    刪除字數<12(根據觀察)\n",
    "\n",
    "*混雜code(css,javascript)\n",
    "->留到斷詞完處理\n",
    "\n",
    "重複資料處理(全留,隨機留,全砍,*留最少* imbalance data weight)\n",
    "\n",
    "    同類別的重複資料(內文重複,url重複)-同類別下統一刪除內文重複\n"
   ]
  },
  {
   "cell_type": "markdown",
   "metadata": {},
   "source": [
    "其他：\n",
    "\n",
    "繁體轉簡體(方便jeiba切割)\n",
    "openCC 繁體轉簡體用詞差異\n",
    "(未做)\n",
    "\n",
    "\n",
    "資料格式:\n",
    "\n",
    "標籤(數字) title content(未切)"
   ]
  },
  {
   "cell_type": "markdown",
   "metadata": {},
   "source": [
    "*這篇先不做斷句"
   ]
  },
  {
   "cell_type": "code",
   "execution_count": 1,
   "metadata": {},
   "outputs": [],
   "source": [
    "import re\n",
    "import pandas as pd\n",
    "\n",
    "import numpy as np\n",
    "import os\n",
    "from os import listdir\n",
    "\n",
    "# word cut system\n",
    "import jieba\n",
    "\n",
    "# 繁體簡體轉換\n",
    "from hanziconv import HanziConv"
   ]
  },
  {
   "cell_type": "code",
   "execution_count": 4,
   "metadata": {},
   "outputs": [
    {
     "data": {
      "text/plain": [
       "'/project/jt071-group23'"
      ]
     },
     "execution_count": 4,
     "metadata": {},
     "output_type": "execute_result"
    }
   ],
   "source": [
    "os.chdir('../')\n",
    "os.getcwd()"
   ]
  },
  {
   "cell_type": "code",
   "execution_count": 5,
   "metadata": {},
   "outputs": [],
   "source": [
    "news_path = '/project/jt071-group23/news'\n",
    "files = listdir(news_path)"
   ]
  },
  {
   "cell_type": "code",
   "execution_count": 6,
   "metadata": {},
   "outputs": [
    {
     "name": "stdout",
     "output_type": "stream",
     "text": [
      "0 蘋果專區_網頁資料(10000).csv\n",
      "1 AI與大數據_網頁資料(6482).csv\n",
      "2 汽車_網頁資料(10005).csv\n",
      "3 財經_網頁資料(10024).csv\n",
      "4 旅遊_網頁資料(10021).csv\n",
      "5 美妝保養_網頁資料(5272).csv\n",
      "6 3C產品_網頁資料(2624).csv\n",
      "7 醫療健康_網頁資料(10016).csv\n",
      "8 職涯_網頁資料(10012).csv\n",
      "9 美食_網頁資料(10000).csv\n",
      "10 理財_網頁資料(7480).csv\n",
      "11 無人駕駛_網頁資料(2003).csv\n",
      "12 房地產_網頁資料(3951).csv\n",
      "13 區塊鏈技術_網頁資料(4735).csv\n"
     ]
    }
   ],
   "source": [
    "key = []\n",
    "value = []\n",
    "\n",
    "for i,foldName in enumerate(files):\n",
    "    key.append(foldName)\n",
    "    value.append(i)\n",
    "    print(i,foldName)\n",
    "    \n",
    "label_mapping = dict(zip(key,value))\n",
    "label_value_key = dict(zip(value, key))"
   ]
  },
  {
   "cell_type": "code",
   "execution_count": 7,
   "metadata": {},
   "outputs": [],
   "source": [
    "file_path = []\n",
    "for f in files:\n",
    "    if f !='.ipynb_checkpoints':\n",
    "        path = '/project/jt071-group23/news/'+ f \n",
    "        file_path.append(path)"
   ]
  },
  {
   "cell_type": "code",
   "execution_count": 70,
   "metadata": {},
   "outputs": [
    {
     "name": "stdout",
     "output_type": "stream",
     "text": [
      "tag: 0 蘋果專區_網頁資料(10000).csv | 9228\n",
      "tag: 1 AI與大數據_網頁資料(6482).csv | 6319\n",
      "tag: 2 汽車_網頁資料(10005).csv | 9474\n",
      "tag: 3 財經_網頁資料(10024).csv | 9711\n",
      "tag: 4 旅遊_網頁資料(10021).csv | 7593\n",
      "tag: 5 美妝保養_網頁資料(5272).csv | 5021\n",
      "tag: 6 3C產品_網頁資料(2624).csv | 2569\n",
      "tag: 7 醫療健康_網頁資料(10016).csv | 9645\n",
      "tag: 8 職涯_網頁資料(10012).csv | 9568\n",
      "tag: 9 美食_網頁資料(10000).csv | 7706\n",
      "tag: 10 理財_網頁資料(7480).csv | 7220\n",
      "tag: 11 無人駕駛_網頁資料(2003).csv | 1930\n",
      "tag: 12 房地產_網頁資料(3951).csv | 3890\n",
      "tag: 13 區塊鏈技術_網頁資料(4735).csv | 4599\n",
      "all content 94473\n"
     ]
    }
   ],
   "source": [
    "data_content = []\n",
    "data_label = []\n",
    "all_data = pd.DataFrame()\n",
    "#class\n",
    "tag = 0\n",
    "\n",
    "for path in file_path: \n",
    "    data = pd.read_csv(path)[['content','title']]\n",
    "    data['class'] = tag\n",
    "    \n",
    "    # 刪除 重複的 新聞\n",
    "    data = data.drop_duplicates('content', keep='first')\n",
    "    \n",
    "    #根據觀察 刪除字元<12的文章\n",
    "    data = data[data['content'].apply(lambda x: len(str(x)) > 12)]\n",
    "    \n",
    "    # 刪除 無 內文 or url\n",
    "    data = data.dropna()\n",
    "    fileName = path.split('/')[-1]\n",
    "    print(\"tag:\",tag, fileName, '|', data.shape[0],)\n",
    "    \n",
    "    tag+=1   \n",
    "    # 將每個類別中的content加到all_content\n",
    "    all_data = all_data.append(data)\n",
    "            \n",
    "    # 取出每個content的類別\n",
    "    # fileName = path.split('/')[-1]\n",
    "    # label = label_mapping.get(fileName)\n",
    "    # data_label.append(label)\n",
    "        \n",
    "print('all content',len(all_data))"
   ]
  },
  {
   "cell_type": "code",
   "execution_count": 66,
   "metadata": {},
   "outputs": [
    {
     "name": "stdout",
     "output_type": "stream",
     "text": [
      "201        13\n",
      "944        13\n",
      "947        13\n",
      "122        13\n",
      "126        13\n",
      "121        13\n",
      "972        13\n",
      "939        14\n",
      "948        14\n",
      "250        14\n",
      "970        14\n",
      "958        14\n",
      "960        14\n",
      "969        14\n",
      "4727       15\n",
      "893        15\n",
      "1326       15\n",
      "915        15\n",
      "9447       15\n",
      "955        15\n",
      "919        16\n",
      "2358       16\n",
      "950        16\n",
      "7152       16\n",
      "125        16\n",
      "1594       16\n",
      "1545       16\n",
      "937        17\n",
      "1159       17\n",
      "1951       17\n",
      "        ...  \n",
      "5686    20530\n",
      "8529    20540\n",
      "5141    20544\n",
      "4092    20682\n",
      "5738    20996\n",
      "4719    21364\n",
      "5982    21751\n",
      "8764    21775\n",
      "8563    21775\n",
      "5192    21805\n",
      "8613    21850\n",
      "2812    22335\n",
      "5254    22339\n",
      "8045    22614\n",
      "2930    23483\n",
      "589     23650\n",
      "8894    24875\n",
      "6795    25492\n",
      "5639    28384\n",
      "4972    28818\n",
      "5840    28982\n",
      "5864    29384\n",
      "8852    32289\n",
      "6719    32289\n",
      "9296    33098\n",
      "4491    36798\n",
      "840     39637\n",
      "8951    40488\n",
      "8944    43188\n",
      "6129    47552\n",
      "Name: content, Length: 94473, dtype: int64\n"
     ]
    }
   ],
   "source": [
    "print(all_data.content.str.len().sort_values())"
   ]
  },
  {
   "cell_type": "code",
   "execution_count": 75,
   "metadata": {},
   "outputs": [
    {
     "data": {
      "text/plain": [
       "(94473, 3)"
      ]
     },
     "execution_count": 75,
     "metadata": {},
     "output_type": "execute_result"
    }
   ],
   "source": [
    "all_data.shape"
   ]
  },
  {
   "cell_type": "code",
   "execution_count": 47,
   "metadata": {},
   "outputs": [
    {
     "data": {
      "text/plain": [
       "2    10000\n",
       "2     6482\n",
       "2    10005\n",
       "2    10024\n",
       "2    10021\n",
       "2     5272\n",
       "2     2624\n",
       "2    10016\n",
       "2    10012\n",
       "2    10000\n",
       "2     7480\n",
       "2     2003\n",
       "2     3951\n",
       "2     4735\n",
       "Name: content_len, dtype: int64"
      ]
     },
     "execution_count": 47,
     "metadata": {},
     "output_type": "execute_result"
    }
   ],
   "source": [
    "all_data.content_len[2]"
   ]
  },
  {
   "cell_type": "markdown",
   "metadata": {},
   "source": [
    "接下來做重複部分處理\n",
    "\n",
    "全留:all_data (94473, 3)\n",
    "\n",
    "全刪:all_data_delete (69911, 3)  \n",
    "\n",
    "隨機:all_data_sample (81790, 3)"
   ]
  },
  {
   "cell_type": "code",
   "execution_count": 71,
   "metadata": {},
   "outputs": [],
   "source": [
    "#重複全殺(69911, 3)\n",
    "all_data_delete= all_data.drop_duplicates('content', keep = False)"
   ]
  },
  {
   "cell_type": "code",
   "execution_count": 73,
   "metadata": {},
   "outputs": [],
   "source": [
    "#隨機留一個(sample)\n",
    "all_data_sample = all_data.groupby('content').apply(lambda x: x.sample(1)).reset_index(drop=True)"
   ]
  },
  {
   "cell_type": "code",
   "execution_count": 81,
   "metadata": {},
   "outputs": [],
   "source": [
    "all_data.to_csv('../jt071-group23/jt071080/all_data.csv',index= False)"
   ]
  },
  {
   "cell_type": "code",
   "execution_count": 2,
   "metadata": {},
   "outputs": [],
   "source": [
    "all_data= pd.read_csv('all_data.csv')"
   ]
  },
  {
   "cell_type": "code",
   "execution_count": 6,
   "metadata": {},
   "outputs": [
    {
     "data": {
      "text/plain": [
       "<pandas.core.groupby.groupby.DataFrameGroupBy object at 0x7f7908eeb6a0>"
      ]
     },
     "execution_count": 6,
     "metadata": {},
     "output_type": "execute_result"
    }
   ],
   "source": [
    "all_data.groupby('class')"
   ]
  },
  {
   "cell_type": "code",
   "execution_count": 4,
   "metadata": {},
   "outputs": [
    {
     "ename": "AttributeError",
     "evalue": "'DataFrame' object has no attribute 'concat'",
     "output_type": "error",
     "traceback": [
      "\u001b[0;31m---------------------------------------------------------------------------\u001b[0m",
      "\u001b[0;31mAttributeError\u001b[0m                            Traceback (most recent call last)",
      "\u001b[0;32m<ipython-input-4-4c576441d194>\u001b[0m in \u001b[0;36m<module>\u001b[0;34m()\u001b[0m\n\u001b[0;32m----> 1\u001b[0;31m \u001b[0mall_data\u001b[0m\u001b[0;34m.\u001b[0m\u001b[0mconcat\u001b[0m\u001b[0;34m(\u001b[0m\u001b[0mg\u001b[0m \u001b[0;32mfor\u001b[0m \u001b[0m_\u001b[0m\u001b[0;34m,\u001b[0m \u001b[0mg\u001b[0m \u001b[0;32min\u001b[0m \u001b[0mdf\u001b[0m\u001b[0;34m.\u001b[0m\u001b[0mgroupby\u001b[0m\u001b[0;34m(\u001b[0m\u001b[0;34m\"content\"\u001b[0m\u001b[0;34m)\u001b[0m \u001b[0;32mif\u001b[0m \u001b[0mlen\u001b[0m\u001b[0;34m(\u001b[0m\u001b[0mg\u001b[0m\u001b[0;34m)\u001b[0m \u001b[0;34m>\u001b[0m \u001b[0;36m1\u001b[0m\u001b[0;34m)\u001b[0m\u001b[0;34m\u001b[0m\u001b[0m\n\u001b[0m",
      "\u001b[0;32m/opt/conda/lib/python3.6/site-packages/pandas/core/generic.py\u001b[0m in \u001b[0;36m__getattr__\u001b[0;34m(self, name)\u001b[0m\n\u001b[1;32m   4374\u001b[0m             \u001b[0;32mif\u001b[0m \u001b[0mself\u001b[0m\u001b[0;34m.\u001b[0m\u001b[0m_info_axis\u001b[0m\u001b[0;34m.\u001b[0m\u001b[0m_can_hold_identifiers_and_holds_name\u001b[0m\u001b[0;34m(\u001b[0m\u001b[0mname\u001b[0m\u001b[0;34m)\u001b[0m\u001b[0;34m:\u001b[0m\u001b[0;34m\u001b[0m\u001b[0m\n\u001b[1;32m   4375\u001b[0m                 \u001b[0;32mreturn\u001b[0m \u001b[0mself\u001b[0m\u001b[0;34m[\u001b[0m\u001b[0mname\u001b[0m\u001b[0;34m]\u001b[0m\u001b[0;34m\u001b[0m\u001b[0m\n\u001b[0;32m-> 4376\u001b[0;31m             \u001b[0;32mreturn\u001b[0m \u001b[0mobject\u001b[0m\u001b[0;34m.\u001b[0m\u001b[0m__getattribute__\u001b[0m\u001b[0;34m(\u001b[0m\u001b[0mself\u001b[0m\u001b[0;34m,\u001b[0m \u001b[0mname\u001b[0m\u001b[0;34m)\u001b[0m\u001b[0;34m\u001b[0m\u001b[0m\n\u001b[0m\u001b[1;32m   4377\u001b[0m \u001b[0;34m\u001b[0m\u001b[0m\n\u001b[1;32m   4378\u001b[0m     \u001b[0;32mdef\u001b[0m \u001b[0m__setattr__\u001b[0m\u001b[0;34m(\u001b[0m\u001b[0mself\u001b[0m\u001b[0;34m,\u001b[0m \u001b[0mname\u001b[0m\u001b[0;34m,\u001b[0m \u001b[0mvalue\u001b[0m\u001b[0;34m)\u001b[0m\u001b[0;34m:\u001b[0m\u001b[0;34m\u001b[0m\u001b[0m\n",
      "\u001b[0;31mAttributeError\u001b[0m: 'DataFrame' object has no attribute 'concat'"
     ]
    }
   ],
   "source": [
    "all_data.concat(g for _, g in df.groupby(\"content\") if len(g) > 1)"
   ]
  },
  {
   "cell_type": "code",
   "execution_count": 5,
   "metadata": {},
   "outputs": [
    {
     "data": {
      "text/plain": [
       "pandas.core.frame.DataFrame"
      ]
     },
     "execution_count": 5,
     "metadata": {},
     "output_type": "execute_result"
    }
   ],
   "source": [
    "pandsaall_data"
   ]
  },
  {
   "cell_type": "code",
   "execution_count": 6,
   "metadata": {},
   "outputs": [],
   "source": [
    "test001=pd.date"
   ]
  },
  {
   "cell_type": "code",
   "execution_count": null,
   "metadata": {},
   "outputs": [],
   "source": []
  }
 ],
 "metadata": {
  "kernelspec": {
   "display_name": "Python 3",
   "language": "python",
   "name": "python3"
  },
  "language_info": {
   "codemirror_mode": {
    "name": "ipython",
    "version": 3
   },
   "file_extension": ".py",
   "mimetype": "text/x-python",
   "name": "python",
   "nbconvert_exporter": "python",
   "pygments_lexer": "ipython3",
   "version": "3.6.4"
  }
 },
 "nbformat": 4,
 "nbformat_minor": 2
}
