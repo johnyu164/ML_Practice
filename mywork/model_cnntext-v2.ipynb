{
 "cells": [
  {
   "cell_type": "code",
   "execution_count": 1,
   "metadata": {},
   "outputs": [],
   "source": [
    "%matplotlib inline\n",
    "\n",
    "import pandas as pd\n",
    "import os\n",
    "import seaborn as sns\n",
    "import matplotlib.pyplot as plt\n",
    "import pickle"
   ]
  },
  {
   "cell_type": "code",
   "execution_count": 2,
   "metadata": {},
   "outputs": [],
   "source": [
    "df = pd.read_csv('200_500_str.csv')"
   ]
  },
  {
   "cell_type": "code",
   "execution_count": 3,
   "metadata": {},
   "outputs": [
    {
     "data": {
      "text/html": [
       "<div>\n",
       "<style scoped>\n",
       "    .dataframe tbody tr th:only-of-type {\n",
       "        vertical-align: middle;\n",
       "    }\n",
       "\n",
       "    .dataframe tbody tr th {\n",
       "        vertical-align: top;\n",
       "    }\n",
       "\n",
       "    .dataframe thead th {\n",
       "        text-align: right;\n",
       "    }\n",
       "</style>\n",
       "<table border=\"1\" class=\"dataframe\">\n",
       "  <thead>\n",
       "    <tr style=\"text-align: right;\">\n",
       "      <th></th>\n",
       "      <th>sentences_500</th>\n",
       "      <th>label</th>\n",
       "      <th>sentences_200_str</th>\n",
       "      <th>sentences_500_str</th>\n",
       "      <th>sentences_100_str</th>\n",
       "    </tr>\n",
       "  </thead>\n",
       "  <tbody>\n",
       "    <tr>\n",
       "      <th>0</th>\n",
       "      <td>['ETF', '關鍵', '報告', '台北', '開課', '公告', '七月', '日...</td>\n",
       "      <td>10</td>\n",
       "      <td>ETF 關鍵 報告 台北 開課 公告 七月 日 課程 綠角將 七月 日 台北 開立 ETF ...</td>\n",
       "      <td>ETF 關鍵 報告 台北 開課 公告 七月 日 課程 綠角將 七月 日 台北 開立 ETF ...</td>\n",
       "      <td>ETF 關鍵 報告 台北 開課 公告 七月 日 課程 綠角將 七月 日 台北 開立 ETF ...</td>\n",
       "    </tr>\n",
       "    <tr>\n",
       "      <th>1</th>\n",
       "      <td>['ETF', '關鍵', '報告', '台北', '開課', '公告', '九月', '課...</td>\n",
       "      <td>10</td>\n",
       "      <td>ETF 關鍵 報告 台北 開課 公告 九月 課程 此次 公告 九月 預計 台北 舉辦 兩個 ...</td>\n",
       "      <td>ETF 關鍵 報告 台北 開課 公告 九月 課程 此次 公告 九月 預計 台北 舉辦 兩個 ...</td>\n",
       "      <td>ETF 關鍵 報告 台北 開課 公告 九月 課程 此次 公告 九月 預計 台北 舉辦 兩個 ...</td>\n",
       "    </tr>\n",
       "    <tr>\n",
       "      <th>2</th>\n",
       "      <td>['ETF', '關鍵', '報告', '台北', '開課', '公告', '八月', '日...</td>\n",
       "      <td>10</td>\n",
       "      <td>ETF 關鍵 報告 台北 開課 公告 八月 日 課程 綠角將 八月 日 台北 開立 ETF ...</td>\n",
       "      <td>ETF 關鍵 報告 台北 開課 公告 八月 日 課程 綠角將 八月 日 台北 開立 ETF ...</td>\n",
       "      <td>ETF 關鍵 報告 台北 開課 公告 八月 日 課程 綠角將 八月 日 台北 開立 ETF ...</td>\n",
       "    </tr>\n",
       "    <tr>\n",
       "      <th>3</th>\n",
       "      <td>['訪客', '總覺', '這股', '應該', '慘', '公佈', '季營收', '下'...</td>\n",
       "      <td>10</td>\n",
       "      <td>訪客 總覺 這股 應該 慘 公佈 季營收 下 殺 明明 新聞 已經 說 月 營收 持平 市場...</td>\n",
       "      <td>訪客 總覺 這股 應該 慘 公佈 季營收 下 殺 明明 新聞 已經 說 月 營收 持平 市場...</td>\n",
       "      <td>訪客 總覺 這股 應該 慘 公佈 季營收 下 殺 明明 新聞 已經 說 月 營收 持平 市場...</td>\n",
       "    </tr>\n",
       "    <tr>\n",
       "      <th>4</th>\n",
       "      <td>['lt', '圖片', '擷取', 'MONEYCONNEXION', 'gt', '雙親...</td>\n",
       "      <td>10</td>\n",
       "      <td>lt 圖片 擷取 MONEYCONNEXION gt 雙親 「 理財 身教 凡遇 錢 事 馬...</td>\n",
       "      <td>lt 圖片 擷取 MONEYCONNEXION gt 雙親 「 理財 身教 凡遇 錢 事 馬...</td>\n",
       "      <td>lt 圖片 擷取 MONEYCONNEXION gt 雙親 「 理財 身教 凡遇 錢 事 馬...</td>\n",
       "    </tr>\n",
       "  </tbody>\n",
       "</table>\n",
       "</div>"
      ],
      "text/plain": [
       "                                       sentences_500  label  \\\n",
       "0  ['ETF', '關鍵', '報告', '台北', '開課', '公告', '七月', '日...     10   \n",
       "1  ['ETF', '關鍵', '報告', '台北', '開課', '公告', '九月', '課...     10   \n",
       "2  ['ETF', '關鍵', '報告', '台北', '開課', '公告', '八月', '日...     10   \n",
       "3  ['訪客', '總覺', '這股', '應該', '慘', '公佈', '季營收', '下'...     10   \n",
       "4  ['lt', '圖片', '擷取', 'MONEYCONNEXION', 'gt', '雙親...     10   \n",
       "\n",
       "                                   sentences_200_str  \\\n",
       "0  ETF 關鍵 報告 台北 開課 公告 七月 日 課程 綠角將 七月 日 台北 開立 ETF ...   \n",
       "1  ETF 關鍵 報告 台北 開課 公告 九月 課程 此次 公告 九月 預計 台北 舉辦 兩個 ...   \n",
       "2  ETF 關鍵 報告 台北 開課 公告 八月 日 課程 綠角將 八月 日 台北 開立 ETF ...   \n",
       "3  訪客 總覺 這股 應該 慘 公佈 季營收 下 殺 明明 新聞 已經 說 月 營收 持平 市場...   \n",
       "4  lt 圖片 擷取 MONEYCONNEXION gt 雙親 「 理財 身教 凡遇 錢 事 馬...   \n",
       "\n",
       "                                   sentences_500_str  \\\n",
       "0  ETF 關鍵 報告 台北 開課 公告 七月 日 課程 綠角將 七月 日 台北 開立 ETF ...   \n",
       "1  ETF 關鍵 報告 台北 開課 公告 九月 課程 此次 公告 九月 預計 台北 舉辦 兩個 ...   \n",
       "2  ETF 關鍵 報告 台北 開課 公告 八月 日 課程 綠角將 八月 日 台北 開立 ETF ...   \n",
       "3  訪客 總覺 這股 應該 慘 公佈 季營收 下 殺 明明 新聞 已經 說 月 營收 持平 市場...   \n",
       "4  lt 圖片 擷取 MONEYCONNEXION gt 雙親 「 理財 身教 凡遇 錢 事 馬...   \n",
       "\n",
       "                                   sentences_100_str  \n",
       "0  ETF 關鍵 報告 台北 開課 公告 七月 日 課程 綠角將 七月 日 台北 開立 ETF ...  \n",
       "1  ETF 關鍵 報告 台北 開課 公告 九月 課程 此次 公告 九月 預計 台北 舉辦 兩個 ...  \n",
       "2  ETF 關鍵 報告 台北 開課 公告 八月 日 課程 綠角將 八月 日 台北 開立 ETF ...  \n",
       "3  訪客 總覺 這股 應該 慘 公佈 季營收 下 殺 明明 新聞 已經 說 月 營收 持平 市場...  \n",
       "4  lt 圖片 擷取 MONEYCONNEXION gt 雙親 「 理財 身教 凡遇 錢 事 馬...  "
      ]
     },
     "execution_count": 3,
     "metadata": {},
     "output_type": "execute_result"
    }
   ],
   "source": [
    "df.head()"
   ]
  },
  {
   "cell_type": "code",
   "execution_count": 4,
   "metadata": {},
   "outputs": [],
   "source": [
    "df.drop(df[pd.isnull(df['sentences_100_str'])].index, inplace=True)"
   ]
  },
  {
   "cell_type": "code",
   "execution_count": 6,
   "metadata": {},
   "outputs": [],
   "source": [
    "df.drop(df[df['content'].str.len()<30].index, inplace=True)"
   ]
  },
  {
   "cell_type": "code",
   "execution_count": 5,
   "metadata": {},
   "outputs": [
    {
     "data": {
      "text/plain": [
       "(73065, 5)"
      ]
     },
     "execution_count": 5,
     "metadata": {},
     "output_type": "execute_result"
    }
   ],
   "source": [
    "df.shape"
   ]
  },
  {
   "cell_type": "code",
   "execution_count": 6,
   "metadata": {},
   "outputs": [
    {
     "name": "stderr",
     "output_type": "stream",
     "text": [
      "Using TensorFlow backend.\n"
     ]
    }
   ],
   "source": [
    "from keras.preprocessing.text import Tokenizer\n",
    "from keras.preprocessing.sequence import pad_sequences\n",
    "from keras.utils import to_categorical\n",
    "import numpy as np"
   ]
  },
  {
   "cell_type": "code",
   "execution_count": 10,
   "metadata": {},
   "outputs": [],
   "source": [
    "MAX_SEQUENCE_LENGTH = 100\n",
    "EMBEDDING_DIM = 200\n",
    "\n",
    "\n",
    "tokenizer = Tokenizer()\n",
    "tokenizer.fit_on_texts(df['sentences_100_str'])\n",
    "sequences = tokenizer.texts_to_sequences(df['sentences_100_str'])\n"
   ]
  },
  {
   "cell_type": "code",
   "execution_count": 11,
   "metadata": {},
   "outputs": [],
   "source": [
    "word_index = tokenizer.word_index"
   ]
  },
  {
   "cell_type": "code",
   "execution_count": 12,
   "metadata": {},
   "outputs": [
    {
     "name": "stdout",
     "output_type": "stream",
     "text": [
      "Shape of data tensor: (73065, 100)\n",
      "Shape of label tensor: (73065, 14)\n"
     ]
    }
   ],
   "source": [
    "all_data = pad_sequences(sequences, maxlen=MAX_SEQUENCE_LENGTH)\n",
    "labels = to_categorical(np.asarray(df['label']))\n",
    "print('Shape of data tensor:', all_data.shape)\n",
    "print('Shape of label tensor:', labels.shape)"
   ]
  },
  {
   "cell_type": "code",
   "execution_count": 15,
   "metadata": {},
   "outputs": [],
   "source": [
    "from sklearn.model_selection import train_test_split\n",
    "x_train,x_val,y_train,y_val = train_test_split(all_data,labels,\n",
    "                                               test_size=0.3,\n",
    "                                               stratify=labels,\n",
    "                                              random_state = 22)\n"
   ]
  },
  {
   "cell_type": "code",
   "execution_count": 16,
   "metadata": {},
   "outputs": [
    {
     "data": {
      "text/plain": [
       "((51145, 100), (51145, 14))"
      ]
     },
     "execution_count": 16,
     "metadata": {},
     "output_type": "execute_result"
    }
   ],
   "source": [
    "x_train.shape,y_train.shape"
   ]
  },
  {
   "cell_type": "markdown",
   "metadata": {},
   "source": [
    "#### CNN Model_1"
   ]
  },
  {
   "cell_type": "code",
   "execution_count": null,
   "metadata": {},
   "outputs": [],
   "source": [
    "# from keras.layers import Dense, Input, Flatten, Dropout\n",
    "# from keras.layers import Conv1D, MaxPooling1D, Embedding, GlobalMaxPooling1D\n",
    "# from keras.models import Sequential\n",
    "\n",
    "# model = Sequential()\n",
    "# model.add(Embedding(len(word_index) + 1, EMBEDDING_DIM, input_length=MAX_SEQUENCE_LENGTH))\n",
    "# model.add(Dropout(0.2))\n",
    "# model.add(Conv1D(250, 3, padding='valid', activation='relu', strides=1))\n",
    "# model.add(MaxPooling1D(3))\n",
    "# model.add(Flatten())\n",
    "# model.add(Dense(EMBEDDING_DIM, activation='relu'))\n",
    "# model.add(Dense(labels.shape[1], activation='softmax'))\n",
    "# model.summary()\n",
    "# #plot_model(model, to_file='model.png',show_shapes=True)\n",
    "\n",
    "# model.compile(loss='categorical_crossentropy',\n",
    "#               optimizer='adam',\n",
    "#               metrics=['acc'])\n",
    "# print(model.metrics_names)"
   ]
  },
  {
   "cell_type": "code",
   "execution_count": null,
   "metadata": {},
   "outputs": [],
   "source": [
    "# model.fit(x_train, y_train, validation_data=(x_val, y_val), epochs=5, batch_size=128)"
   ]
  },
  {
   "cell_type": "markdown",
   "metadata": {},
   "source": [
    "#### CNN Model_2"
   ]
  },
  {
   "cell_type": "code",
   "execution_count": 18,
   "metadata": {},
   "outputs": [],
   "source": [
    "from keras.layers import Input, Dense, Embedding, Conv2D, MaxPool2D\n",
    "from keras.layers import Reshape, Flatten, Dropout, Concatenate\n",
    "from keras.optimizers import Adam\n",
    "from keras.models import Model\n",
    "from keras.utils import multi_gpu_model\n",
    "from keras.metrics import top_k_categorical_accuracy"
   ]
  },
  {
   "cell_type": "code",
   "execution_count": 19,
   "metadata": {},
   "outputs": [
    {
     "name": "stdout",
     "output_type": "stream",
     "text": [
      "__________________________________________________________________________________________________\n",
      "Layer (type)                    Output Shape         Param #     Connected to                     \n",
      "==================================================================================================\n",
      "input_1 (InputLayer)            (None, 100)          0                                            \n",
      "__________________________________________________________________________________________________\n",
      "embedding_1 (Embedding)         (None, 100, 200)     57491000    input_1[0][0]                    \n",
      "__________________________________________________________________________________________________\n",
      "reshape_1 (Reshape)             (None, 100, 200, 1)  0           embedding_1[0][0]                \n",
      "__________________________________________________________________________________________________\n",
      "conv2d_1 (Conv2D)               (None, 98, 1, 512)   307712      reshape_1[0][0]                  \n",
      "__________________________________________________________________________________________________\n",
      "conv2d_2 (Conv2D)               (None, 97, 1, 512)   410112      reshape_1[0][0]                  \n",
      "__________________________________________________________________________________________________\n",
      "conv2d_3 (Conv2D)               (None, 96, 1, 512)   512512      reshape_1[0][0]                  \n",
      "__________________________________________________________________________________________________\n",
      "max_pooling2d_1 (MaxPooling2D)  (None, 1, 1, 512)    0           conv2d_1[0][0]                   \n",
      "__________________________________________________________________________________________________\n",
      "max_pooling2d_2 (MaxPooling2D)  (None, 1, 1, 512)    0           conv2d_2[0][0]                   \n",
      "__________________________________________________________________________________________________\n",
      "max_pooling2d_3 (MaxPooling2D)  (None, 1, 1, 512)    0           conv2d_3[0][0]                   \n",
      "__________________________________________________________________________________________________\n",
      "concatenate_1 (Concatenate)     (None, 3, 1, 512)    0           max_pooling2d_1[0][0]            \n",
      "                                                                 max_pooling2d_2[0][0]            \n",
      "                                                                 max_pooling2d_3[0][0]            \n",
      "__________________________________________________________________________________________________\n",
      "flatten_1 (Flatten)             (None, 1536)         0           concatenate_1[0][0]              \n",
      "__________________________________________________________________________________________________\n",
      "dropout_1 (Dropout)             (None, 1536)         0           flatten_1[0][0]                  \n",
      "__________________________________________________________________________________________________\n",
      "dense_1 (Dense)                 (None, 14)           21518       dropout_1[0][0]                  \n",
      "==================================================================================================\n",
      "Total params: 58,742,854\n",
      "Trainable params: 58,742,854\n",
      "Non-trainable params: 0\n",
      "__________________________________________________________________________________________________\n"
     ]
    }
   ],
   "source": [
    "filter_sizes = [3,4,5]\n",
    "num_filters = 512\n",
    "drop = 0.5\n",
    "\n",
    "epochs = 30\n",
    "batch_size = 128\n",
    "\n",
    "\n",
    "inputs = Input(shape=(MAX_SEQUENCE_LENGTH,), dtype='int32')\n",
    "embedding = Embedding(len(word_index)+1, EMBEDDING_DIM, input_length=MAX_SEQUENCE_LENGTH)(inputs)\n",
    "reshape = Reshape((MAX_SEQUENCE_LENGTH,EMBEDDING_DIM,1))(embedding)\n",
    "\n",
    "conv_0 = Conv2D(num_filters, kernel_size=(filter_sizes[0], EMBEDDING_DIM), padding='valid', kernel_initializer='normal', activation='relu')(reshape)\n",
    "conv_1 = Conv2D(num_filters, kernel_size=(filter_sizes[1], EMBEDDING_DIM), padding='valid', kernel_initializer='normal', activation='relu')(reshape)\n",
    "conv_2 = Conv2D(num_filters, kernel_size=(filter_sizes[2], EMBEDDING_DIM), padding='valid', kernel_initializer='normal', activation='relu')(reshape)\n",
    "\n",
    "maxpool_0 = MaxPool2D(pool_size=(MAX_SEQUENCE_LENGTH - filter_sizes[0] + 1, 1), strides=(1,1), padding='valid')(conv_0)\n",
    "maxpool_1 = MaxPool2D(pool_size=(MAX_SEQUENCE_LENGTH - filter_sizes[1] + 1, 1), strides=(1,1), padding='valid')(conv_1)\n",
    "maxpool_2 = MaxPool2D(pool_size=(MAX_SEQUENCE_LENGTH - filter_sizes[2] + 1, 1), strides=(1,1), padding='valid')(conv_2)\n",
    "\n",
    "concatenated_tensor = Concatenate(axis=1)([maxpool_0, maxpool_1, maxpool_2])\n",
    "flatten = Flatten()(concatenated_tensor)\n",
    "dropout = Dropout(drop)(flatten)\n",
    "output = Dense(units=labels.shape[1], activation='softmax')(dropout)\n",
    "\n",
    "model = Model(inputs=inputs, outputs=output)\n",
    "\n",
    "adam = Adam(lr=1e-4, beta_1=0.9, beta_2=0.999, epsilon=1e-08, decay=0.0)\n",
    "\n",
    "def top_2_categorical_accuracy(y_true, y_pred):\n",
    "    return top_k_categorical_accuracy(y_true, y_pred, k=2) \n",
    "\n",
    "#paralled_model = multi_gpu_model(model,2)\n",
    "model.compile(optimizer=adam, \n",
    "                       loss='categorical_crossentropy', \n",
    "                       metrics=['accuracy', top_2_categorical_accuracy])\n",
    "model.summary()"
   ]
  },
  {
   "cell_type": "code",
   "execution_count": 20,
   "metadata": {},
   "outputs": [],
   "source": [
    "# save weight\n",
    "savePath = 'cnn_norm_100_top2.h5'\n",
    "# paralled_model.save_weights('train_result/weights_model_cnntext-v2(71484).h5')"
   ]
  },
  {
   "cell_type": "code",
   "execution_count": null,
   "metadata": {},
   "outputs": [
    {
     "name": "stdout",
     "output_type": "stream",
     "text": [
      "Train on 51145 samples, validate on 21920 samples\n",
      "Epoch 1/30\n",
      "51072/51145 [============================>.] - ETA: 0s - loss: 2.3565 - acc: 0.2634 - top_2_categorical_accuracy: 0.3661\n",
      "Epoch 00001: val_acc improved from -inf to 0.53987, saving model to cnn_norm_100_top2.h5\n",
      "51145/51145 [==============================] - 37s 728us/step - loss: 2.3562 - acc: 0.2636 - top_2_categorical_accuracy: 0.3665 - val_loss: 1.9905 - val_acc: 0.5399 - val_top_2_categorical_accuracy: 0.6252\n",
      "Epoch 2/30\n",
      "51072/51145 [============================>.] - ETA: 0s - loss: 1.4496 - acc: 0.6520 - top_2_categorical_accuracy: 0.7676\n",
      "Epoch 00002: val_acc improved from 0.53987 to 0.72806, saving model to cnn_norm_100_top2.h5\n",
      "51145/51145 [==============================] - 34s 657us/step - loss: 1.4490 - acc: 0.6521 - top_2_categorical_accuracy: 0.7678 - val_loss: 1.0696 - val_acc: 0.7281 - val_top_2_categorical_accuracy: 0.8326\n",
      "Epoch 3/30\n",
      "51072/51145 [============================>.] - ETA: 0s - loss: 0.8612 - acc: 0.7650 - top_2_categorical_accuracy: 0.8752\n",
      "Epoch 00003: val_acc improved from 0.72806 to 0.77915, saving model to cnn_norm_100_top2.h5\n",
      "51145/51145 [==============================] - 34s 665us/step - loss: 0.8611 - acc: 0.7650 - top_2_categorical_accuracy: 0.8752 - val_loss: 0.7624 - val_acc: 0.7792 - val_top_2_categorical_accuracy: 0.8891\n",
      "Epoch 4/30\n",
      "51072/51145 [============================>.] - ETA: 0s - loss: 0.6411 - acc: 0.8111 - top_2_categorical_accuracy: 0.9191"
     ]
    }
   ],
   "source": [
    "from keras.callbacks import ModelCheckpoint, ReduceLROnPlateau, EarlyStopping\n",
    "\n",
    "checkpoint = ModelCheckpoint(savePath, \n",
    "                             save_weights_only=True, \n",
    "                             monitor='val_acc', \n",
    "                             verbose=1, \n",
    "                             save_best_only=True, \n",
    "                             mode='auto')\n",
    "\n",
    "earlystop = EarlyStopping(monitor='val_loss', \n",
    "                          patience=10, verbose=1)\n",
    "# reduce_lr = ReduceLROnPlateau(monitor='val_loss', factor=0.5, patience=2, verbose=1, mode='min', cooldown=0)\n",
    "\n",
    "# 計算一個 epoch 總共要更新幾次參數\n",
    "steps_per_epoch = len(y_train) // batch_size\n",
    "\n",
    "# starts training\n",
    "model_history = model.fit(x_train, y_train,\n",
    "                          batch_size=batch_size,\n",
    "                          epochs=epochs, \n",
    "                          verbose=1, \n",
    "                          validation_data=(x_val, y_val),\n",
    "                          callbacks=[earlystop,checkpoint]) "
   ]
  },
  {
   "cell_type": "markdown",
   "metadata": {},
   "source": [
    "#### 加速 CNN model training speed"
   ]
  },
  {
   "cell_type": "code",
   "execution_count": 20,
   "metadata": {},
   "outputs": [],
   "source": [
    "# # 用 generator餵資料，為了使用 fit_generator加速訓練速度\n",
    "\n",
    "# def generate_batch_data_random(x, y, batch_size):\n",
    "#     \"\"\"逐步提取batch数据到显存，降低对显存的占用\"\"\"\n",
    "#     ylen = len(y)\n",
    "#     loopcount = ylen // batch_size\n",
    "#     while (True):\n",
    "#         i = np.random.randint(0,loopcount)\n",
    "#         yield x[i * batch_size:(i + 1) * batch_size], y[i * batch_size:(i + 1) * batch_size]"
   ]
  },
  {
   "cell_type": "code",
   "execution_count": 21,
   "metadata": {},
   "outputs": [],
   "source": [
    "# from keras.callbacks import ModelCheckpoint, ReduceLROnPlateau\n",
    "\n",
    "# checkpoint = ModelCheckpoint('weights.{epoch:03d}-{val_acc:.4f}.hdf5', monitor='val_acc', verbose=1, save_best_only=True, mode='auto')\n",
    "# # earlystop = Earlystopping(monitor='val_loss', patience=5, verbose=1)\n",
    "# # reduce_lr = ReduceLROnPlateau(monitor='val_loss', factor=0.5, patience=2, verbose=1, mode='min', cooldown=0)\n",
    "\n",
    "# # 計算一個 epoch 總共要更新幾次參數\n",
    "# steps_per_epoch = len(y_train) // batch_size\n",
    "\n",
    "# # starts training\n",
    "# model_history = model.fit_generator(generate_batch_data_random(x_train, y_train, batch_size),\n",
    "#                                     workers=4,\n",
    "#                                     steps_per_epoch=steps_per_epoch,\n",
    "#                                     epochs=epochs, \n",
    "#                                     verbose=1, \n",
    "#                                     use_multiprocessing=True,\n",
    "#                                     validation_data=(x_val, y_val))  "
   ]
  },
  {
   "cell_type": "markdown",
   "metadata": {},
   "source": [
    "#### Score trained model"
   ]
  },
  {
   "cell_type": "code",
   "execution_count": 22,
   "metadata": {},
   "outputs": [
    {
     "name": "stdout",
     "output_type": "stream",
     "text": [
      "20085/20085 [==============================] - 9s 452us/step\n",
      "Valid loss 0.320720292889\n",
      "Valid accuracy 0.903709235754\n"
     ]
    }
   ],
   "source": [
    "scores = paralled_model.evaluate(x_val, y_val, verbose=1)\n",
    "print('Valid loss', scores[0])\n",
    "print('Valid accuracy', scores[1])"
   ]
  },
  {
   "cell_type": "code",
   "execution_count": 23,
   "metadata": {},
   "outputs": [
    {
     "data": {
      "text/plain": [
       "'/project/jt071-group23/jt071078'"
      ]
     },
     "execution_count": 23,
     "metadata": {},
     "output_type": "execute_result"
    }
   ],
   "source": [
    "os.getcwd()"
   ]
  },
  {
   "cell_type": "markdown",
   "metadata": {},
   "source": [
    "#### Save training result"
   ]
  },
  {
   "cell_type": "code",
   "execution_count": 24,
   "metadata": {},
   "outputs": [],
   "source": [
    "from keras.models import load_model"
   ]
  },
  {
   "cell_type": "code",
   "execution_count": 25,
   "metadata": {},
   "outputs": [],
   "source": [
    "# save model\n",
    "paralled_model.save('train_result/model_cnntext-v2(67178).h5')"
   ]
  },
  {
   "cell_type": "code",
   "execution_count": 26,
   "metadata": {},
   "outputs": [],
   "source": [
    "# save history\n",
    "with open('train_result/history_model_cnntext-v2(67178)', 'wb') as train_history:\n",
    "    pickle.dump(model_history.history, train_history)"
   ]
  },
  {
   "cell_type": "code",
   "execution_count": 27,
   "metadata": {},
   "outputs": [],
   "source": [
    "# model_json = model.to_json()\n",
    "# with open(\"model.json\", \"w\") as json_file:\n",
    "#     json_file.write(model_json)\n",
    "# # serialize weights to HDF5\n",
    "# model.save_weights(\"model.h5\")\n",
    "# print(\"Saved model to disk\")"
   ]
  },
  {
   "cell_type": "markdown",
   "metadata": {},
   "source": [
    "#### Plot performance"
   ]
  },
  {
   "cell_type": "code",
   "execution_count": 28,
   "metadata": {},
   "outputs": [
    {
     "data": {
      "text/plain": [
       "<matplotlib.legend.Legend at 0x7f4400236be0>"
      ]
     },
     "execution_count": 28,
     "metadata": {},
     "output_type": "execute_result"
    },
    {
     "data": {
      "image/png": "[encoded data removed]",
      "text/plain": [
       "<Figure size 360x360 with 1 Axes>"
      ]
     },
     "metadata": {
      "needs_background": "light"
     },
     "output_type": "display_data"
    },
    {
     "data": {
      "image/png": "[encoded data removed]",
      "text/plain": [
       "<Figure size 360x360 with 1 Axes>"
      ]
     },
     "metadata": {
      "needs_background": "light"
     },
     "output_type": "display_data"
    }
   ],
   "source": [
    "training_loss = model_history.history['loss']\n",
    "val_loss = model_history.history['val_loss']\n",
    "\n",
    "train_acc = model_history.history['acc']\n",
    "val_acc = model_history.history['val_acc']\n",
    "\n",
    "plt.figure(figsize=(5,5))\n",
    "\n",
    "plt.plot(training_loss, label='training_loss')\n",
    "plt.plot(val_loss, label='validation_loss')\n",
    "plt.xlabel('Epochs')\n",
    "plt.ylabel('Loss')\n",
    "plt.title('Learning Curve')\n",
    "plt.legend(loc='best')\n",
    "\n",
    "plt.figure(figsize=(5,5))\n",
    "#plt.subplot(122)\n",
    "plt.plot(train_acc, label=\"training_acc\")\n",
    "plt.plot(val_acc, label=\"validation_acc\")\n",
    "plt.xlabel(\"Epochs\")\n",
    "plt.ylabel(\"Accuracy\")\n",
    "plt.title(\"Learning Curve\")\n",
    "plt.legend(loc='best')\n"
   ]
  },
  {
   "cell_type": "code",
   "execution_count": null,
   "metadata": {},
   "outputs": [],
   "source": []
  }
 ],
 "metadata": {
  "kernelspec": {
   "display_name": "Python 3",
   "language": "python",
   "name": "python3"
  },
  "language_info": {
   "codemirror_mode": {
    "name": "ipython",
    "version": 3
   },
   "file_extension": ".py",
   "mimetype": "text/x-python",
   "name": "python",
   "nbconvert_exporter": "python",
   "pygments_lexer": "ipython3",
   "version": "3.6.4"
  }
 },
 "nbformat": 4,
 "nbformat_minor": 2
}
