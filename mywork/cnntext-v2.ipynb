{
 "cells": [
  {
   "cell_type": "code",
   "execution_count": 2,
   "metadata": {},
   "outputs": [],
   "source": [
    "%matplotlib inline\n",
    "\n",
    "import pandas as pd\n",
    "import os\n",
    "import seaborn as sns\n"
   ]
  },
  {
   "cell_type": "code",
   "execution_count": 3,
   "metadata": {},
   "outputs": [],
   "source": [
    "df = pd.read_csv('200_500_str.csv')"
   ]
  },
  {
   "cell_type": "code",
   "execution_count": 23,
   "metadata": {},
   "outputs": [
    {
     "data": {
      "text/plain": [
       "(4200, 2)"
      ]
     },
     "execution_count": 23,
     "metadata": {},
     "output_type": "execute_result"
    }
   ],
   "source": [
    "try1.shape"
   ]
  },
  {
   "cell_type": "code",
   "execution_count": 4,
   "metadata": {},
   "outputs": [],
   "source": [
    "df= df.drop(['sentences_500_str','sentences_100_str','sentences_500'], axis=1)"
   ]
  },
  {
   "cell_type": "code",
   "execution_count": 29,
   "metadata": {},
   "outputs": [],
   "source": [
    "df_sample= df.sample(n=5000)"
   ]
  },
  {
   "cell_type": "code",
   "execution_count": 5,
   "metadata": {},
   "outputs": [],
   "source": [
    "try1=df.loc[df['label']==0].sample(n=300)"
   ]
  },
  {
   "cell_type": "code",
   "execution_count": 19,
   "metadata": {},
   "outputs": [],
   "source": [
    "try1=try1.append(df.loc[df['label']==1].sample(n=300))"
   ]
  },
  {
   "cell_type": "code",
   "execution_count": 21,
   "metadata": {},
   "outputs": [],
   "source": [
    "from sklearn.utils import shuffle\n",
    "try1=shuffle(try1).reset_index(drop=True)"
   ]
  },
  {
   "cell_type": "code",
   "execution_count": 22,
   "metadata": {},
   "outputs": [],
   "source": [
    "try1.drop(try1[pd.isnull(try1['sentences_200_str'])].index, inplace=True)"
   ]
  },
  {
   "cell_type": "code",
   "execution_count": 5,
   "metadata": {},
   "outputs": [],
   "source": [
    "#df.drop(df[df['content'].str.len()<30].index, inplace=True)"
   ]
  },
  {
   "cell_type": "code",
   "execution_count": 24,
   "metadata": {},
   "outputs": [
    {
     "name": "stderr",
     "output_type": "stream",
     "text": [
      "Using TensorFlow backend.\n"
     ]
    }
   ],
   "source": [
    "from keras.preprocessing.text import Tokenizer\n",
    "from keras.preprocessing.sequence import pad_sequences\n",
    "from keras.utils import to_categorical\n",
    "import numpy as np"
   ]
  },
  {
   "cell_type": "code",
   "execution_count": 25,
   "metadata": {},
   "outputs": [],
   "source": [
    "MAX_SEQUENCE_LENGTH = 200\n",
    "EMBEDDING_DIM = 200\n",
    "\n",
    "\n",
    "tokenizer = Tokenizer()\n",
    "tokenizer.fit_on_texts(try1['sentences_200_str'])\n",
    "sequences = tokenizer.texts_to_sequences(try1['sentences_200_str'])"
   ]
  },
  {
   "cell_type": "code",
   "execution_count": 26,
   "metadata": {},
   "outputs": [],
   "source": [
    "word_index = tokenizer.word_index"
   ]
  },
  {
   "cell_type": "code",
   "execution_count": 28,
   "metadata": {},
   "outputs": [
    {
     "name": "stdout",
     "output_type": "stream",
     "text": [
      "Shape of data tensor: (4200, 200)\n",
      "Shape of label tensor: (4200, 14)\n"
     ]
    }
   ],
   "source": [
    "all_data = pad_sequences(sequences, maxlen=MAX_SEQUENCE_LENGTH)\n",
    "labels = to_categorical(np.asarray(try1['label']))\n",
    "print('Shape of data tensor:', all_data.shape)\n",
    "print('Shape of label tensor:', labels.shape)"
   ]
  },
  {
   "cell_type": "code",
   "execution_count": 30,
   "metadata": {},
   "outputs": [],
   "source": [
    "from sklearn.model_selection import train_test_split\n",
    "x_train_1,x_val_1,y_train_1,y_val_1 = train_test_split(all_data,labels,test_size=0.1,stratify=labels)"
   ]
  },
  {
   "cell_type": "code",
   "execution_count": 32,
   "metadata": {},
   "outputs": [
    {
     "data": {
      "text/plain": [
       "((3780, 200), (3780, 14))"
      ]
     },
     "execution_count": 32,
     "metadata": {},
     "output_type": "execute_result"
    }
   ],
   "source": [
    "x_train_1.shape,y_train_1.shape"
   ]
  },
  {
   "cell_type": "code",
   "execution_count": 33,
   "metadata": {},
   "outputs": [
    {
     "name": "stdout",
     "output_type": "stream",
     "text": [
      "_________________________________________________________________\n",
      "Layer (type)                 Output Shape              Param #   \n",
      "=================================================================\n",
      "embedding_1 (Embedding)      (None, 200, 200)          16913000  \n",
      "_________________________________________________________________\n",
      "dropout_1 (Dropout)          (None, 200, 200)          0         \n",
      "_________________________________________________________________\n",
      "conv1d_1 (Conv1D)            (None, 198, 250)          150250    \n",
      "_________________________________________________________________\n",
      "max_pooling1d_1 (MaxPooling1 (None, 66, 250)           0         \n",
      "_________________________________________________________________\n",
      "flatten_1 (Flatten)          (None, 16500)             0         \n",
      "_________________________________________________________________\n",
      "dense_1 (Dense)              (None, 200)               3300200   \n",
      "_________________________________________________________________\n",
      "dense_2 (Dense)              (None, 14)                2814      \n",
      "=================================================================\n",
      "Total params: 20,366,264\n",
      "Trainable params: 20,366,264\n",
      "Non-trainable params: 0\n",
      "_________________________________________________________________\n",
      "['loss', 'acc']\n"
     ]
    }
   ],
   "source": [
    "from keras.layers import Dense, Input, Flatten, Dropout\n",
    "from keras.layers import Conv1D, MaxPooling1D, Embedding, GlobalMaxPooling1D\n",
    "from keras.models import Sequential\n",
    "\n",
    "model = Sequential()\n",
    "model.add(Embedding(len(word_index) + 1, EMBEDDING_DIM, input_length=MAX_SEQUENCE_LENGTH))\n",
    "model.add(Dropout(0.2))\n",
    "model.add(Conv1D(250, 3, padding='valid', activation='relu', strides=1))\n",
    "model.add(MaxPooling1D(3))\n",
    "model.add(Flatten())\n",
    "model.add(Dense(EMBEDDING_DIM, activation='relu'))\n",
    "model.add(Dense(labels.shape[1], activation='softmax'))\n",
    "model.summary()\n",
    "#plot_model(model, to_file='model.png',show_shapes=True)\n",
    "\n",
    "model.compile(loss='categorical_crossentropy',\n",
    "              optimizer='rmsprop',\n",
    "              metrics=['acc'])\n",
    "print(model.metrics_names)"
   ]
  },
  {
   "cell_type": "code",
   "execution_count": 35,
   "metadata": {},
   "outputs": [
    {
     "name": "stdout",
     "output_type": "stream",
     "text": [
      "Train on 3780 samples, validate on 420 samples\n",
      "Epoch 1/5\n",
      "3712/3780 [============================>.] - ETA: 0s - loss: 0.0364 - acc: 0.9933\n",
      "Epoch 00001: val_acc improved from -inf to 0.77857, saving model to /home/jovyan/jt071-group23/jt071080/cnn_TFIDF_200.h5\n",
      "3780/3780 [==============================] - 48s 13ms/step - loss: 0.0360 - acc: 0.9934 - val_loss: 1.1216 - val_acc: 0.7786\n",
      "Epoch 2/5\n",
      "3712/3780 [============================>.] - ETA: 0s - loss: 0.0153 - acc: 0.9976\n",
      "Epoch 00002: val_acc did not improve\n",
      "3780/3780 [==============================] - 44s 12ms/step - loss: 0.0150 - acc: 0.9976 - val_loss: 1.2770 - val_acc: 0.7762\n",
      "Epoch 3/5\n",
      "3712/3780 [============================>.] - ETA: 0s - loss: 0.0267 - acc: 0.9957\n",
      "Epoch 00003: val_acc did not improve\n",
      "3780/3780 [==============================] - 44s 12ms/step - loss: 0.0264 - acc: 0.9958 - val_loss: 1.3697 - val_acc: 0.7714\n",
      "Epoch 4/5\n",
      "3712/3780 [============================>.] - ETA: 0s - loss: 0.0173 - acc: 0.9981\n",
      "Epoch 00004: val_acc did not improve\n",
      "3780/3780 [==============================] - 44s 12ms/step - loss: 0.0170 - acc: 0.9981 - val_loss: 1.4273 - val_acc: 0.7667\n",
      "Epoch 5/5\n",
      "3712/3780 [============================>.] - ETA: 0s - loss: 0.0179 - acc: 0.9968\n",
      "Epoch 00005: val_acc did not improve\n",
      "3780/3780 [==============================] - 44s 12ms/step - loss: 0.0176 - acc: 0.9968 - val_loss: 1.5619 - val_acc: 0.7571\n"
     ]
    },
    {
     "data": {
      "text/plain": [
       "<keras.callbacks.History at 0x7fbc4687c0f0>"
      ]
     },
     "execution_count": 35,
     "metadata": {},
     "output_type": "execute_result"
    }
   ],
   "source": [
    "from keras.callbacks import EarlyStopping, ModelCheckpoint, History \n",
    "model_path ='/home/jovyan/jt071-group23/jt071080/cnn_TFIDF_200.h5'\n",
    "\n",
    "checkpoint = ModelCheckpoint(model_path, monitor='val_acc', save_best_only=True, verbose=1)\n",
    "earlystop = EarlyStopping(monitor='val_loss', patience=10, verbose=1)\n",
    "history = History()\n",
    "\n",
    "model.fit(x_train_1, y_train_1,\n",
    "          validation_data=(x_val_1, y_val_1),\n",
    "          epochs=20,\n",
    "          callbacks = [earlystop, checkpoint, history],\n",
    "          batch_size=128)\n"
   ]
  },
  {
   "cell_type": "code",
   "execution_count": null,
   "metadata": {},
   "outputs": [],
   "source": []
  },
  {
   "cell_type": "code",
   "execution_count": 36,
   "metadata": {},
   "outputs": [],
   "source": [
    "from keras.layers import Input, Dense, Embedding, Conv2D, MaxPool2D\n",
    "from keras.layers import Reshape, Flatten, Dropout, Concatenate\n",
    "from keras.callbacks import ModelCheckpoint\n",
    "from keras.optimizers import Adam\n",
    "from keras.models import Model"
   ]
  },
  {
   "cell_type": "code",
   "execution_count": 37,
   "metadata": {},
   "outputs": [
    {
     "name": "stdout",
     "output_type": "stream",
     "text": [
      "__________________________________________________________________________________________________\n",
      "Layer (type)                    Output Shape         Param #     Connected to                     \n",
      "==================================================================================================\n",
      "input_1 (InputLayer)            (None, 200)          0                                            \n",
      "__________________________________________________________________________________________________\n",
      "embedding_2 (Embedding)         (None, 200, 200)     16913000    input_1[0][0]                    \n",
      "__________________________________________________________________________________________________\n",
      "reshape_1 (Reshape)             (None, 200, 200, 1)  0           embedding_2[0][0]                \n",
      "__________________________________________________________________________________________________\n",
      "conv2d_1 (Conv2D)               (None, 198, 1, 512)  307712      reshape_1[0][0]                  \n",
      "__________________________________________________________________________________________________\n",
      "conv2d_2 (Conv2D)               (None, 197, 1, 512)  410112      reshape_1[0][0]                  \n",
      "__________________________________________________________________________________________________\n",
      "conv2d_3 (Conv2D)               (None, 196, 1, 512)  512512      reshape_1[0][0]                  \n",
      "__________________________________________________________________________________________________\n",
      "max_pooling2d_1 (MaxPooling2D)  (None, 1, 1, 512)    0           conv2d_1[0][0]                   \n",
      "__________________________________________________________________________________________________\n",
      "max_pooling2d_2 (MaxPooling2D)  (None, 1, 1, 512)    0           conv2d_2[0][0]                   \n",
      "__________________________________________________________________________________________________\n",
      "max_pooling2d_3 (MaxPooling2D)  (None, 1, 1, 512)    0           conv2d_3[0][0]                   \n",
      "__________________________________________________________________________________________________\n",
      "concatenate_1 (Concatenate)     (None, 3, 1, 512)    0           max_pooling2d_1[0][0]            \n",
      "                                                                 max_pooling2d_2[0][0]            \n",
      "                                                                 max_pooling2d_3[0][0]            \n",
      "__________________________________________________________________________________________________\n",
      "flatten_2 (Flatten)             (None, 1536)         0           concatenate_1[0][0]              \n",
      "__________________________________________________________________________________________________\n",
      "dropout_2 (Dropout)             (None, 1536)         0           flatten_2[0][0]                  \n",
      "__________________________________________________________________________________________________\n",
      "dense_3 (Dense)                 (None, 14)           21518       dropout_2[0][0]                  \n",
      "==================================================================================================\n",
      "Total params: 18,164,854\n",
      "Trainable params: 18,164,854\n",
      "Non-trainable params: 0\n",
      "__________________________________________________________________________________________________\n"
     ]
    }
   ],
   "source": [
    "filter_sizes = [3,4,5]\n",
    "num_filters = 512\n",
    "drop = 0.5\n",
    "\n",
    "epochs = 50\n",
    "batch_size = 128\n",
    "\n",
    "\n",
    "inputs = Input(shape=(MAX_SEQUENCE_LENGTH,), dtype='int32')\n",
    "embedding = Embedding(len(word_index)+1, EMBEDDING_DIM, input_length=MAX_SEQUENCE_LENGTH)(inputs)\n",
    "reshape = Reshape((MAX_SEQUENCE_LENGTH,EMBEDDING_DIM,1))(embedding)\n",
    "\n",
    "conv_0 = Conv2D(num_filters, kernel_size=(filter_sizes[0], EMBEDDING_DIM), padding='valid', kernel_initializer='normal', activation='relu')(reshape)\n",
    "conv_1 = Conv2D(num_filters, kernel_size=(filter_sizes[1], EMBEDDING_DIM), padding='valid', kernel_initializer='normal', activation='relu')(reshape)\n",
    "conv_2 = Conv2D(num_filters, kernel_size=(filter_sizes[2], EMBEDDING_DIM), padding='valid', kernel_initializer='normal', activation='relu')(reshape)\n",
    "\n",
    "maxpool_0 = MaxPool2D(pool_size=(MAX_SEQUENCE_LENGTH - filter_sizes[0] + 1, 1), strides=(1,1), padding='valid')(conv_0)\n",
    "maxpool_1 = MaxPool2D(pool_size=(MAX_SEQUENCE_LENGTH - filter_sizes[1] + 1, 1), strides=(1,1), padding='valid')(conv_1)\n",
    "maxpool_2 = MaxPool2D(pool_size=(MAX_SEQUENCE_LENGTH - filter_sizes[2] + 1, 1), strides=(1,1), padding='valid')(conv_2)\n",
    "\n",
    "concatenated_tensor = Concatenate(axis=1)([maxpool_0, maxpool_1, maxpool_2])\n",
    "flatten = Flatten()(concatenated_tensor)\n",
    "dropout = Dropout(drop)(flatten)\n",
    "output = Dense(units=labels.shape[1], activation='softmax')(dropout)\n",
    "\n",
    "model = Model(inputs=inputs, outputs=output)\n",
    "\n",
    "checkpoint = ModelCheckpoint('weights.{epoch:03d}-{val_acc:.4f}.hdf5', monitor='val_acc', verbose=1, save_best_only=True, mode='auto')\n",
    "adam = Adam(lr=1e-4, beta_1=0.9, beta_2=0.999, epsilon=1e-08, decay=0.0)\n",
    "\n",
    "model.compile(optimizer=adam, loss='categorical_crossentropy', metrics=['accuracy'])\n",
    "model.summary()"
   ]
  },
  {
   "cell_type": "code",
   "execution_count": 39,
   "metadata": {},
   "outputs": [
    {
     "name": "stdout",
     "output_type": "stream",
     "text": [
      "Train on 3780 samples, validate on 420 samples\n",
      "Epoch 1/30\n",
      "3780/3780 [==============================] - 227s 60ms/step - loss: 2.6443 - acc: 0.0775 - val_loss: 2.6200 - val_acc: 0.1571\n",
      "Epoch 2/30\n",
      "3780/3780 [==============================] - 232s 61ms/step - loss: 2.5879 - acc: 0.1376 - val_loss: 2.6034 - val_acc: 0.2762\n",
      "Epoch 3/30\n",
      "3780/3780 [==============================] - 230s 61ms/step - loss: 2.5453 - acc: 0.1989 - val_loss: 2.5868 - val_acc: 0.3905\n",
      "Epoch 4/30\n",
      "3780/3780 [==============================] - 228s 60ms/step - loss: 2.4963 - acc: 0.2722 - val_loss: 2.5687 - val_acc: 0.4238\n",
      "Epoch 5/30\n",
      "3780/3780 [==============================] - 270s 71ms/step - loss: 2.4539 - acc: 0.3474 - val_loss: 2.5485 - val_acc: 0.5119\n",
      "Epoch 6/30\n",
      "3780/3780 [==============================] - 299s 79ms/step - loss: 2.4009 - acc: 0.4648 - val_loss: 2.5238 - val_acc: 0.6071\n",
      "Epoch 7/30\n",
      "3780/3780 [==============================] - 300s 79ms/step - loss: 2.3501 - acc: 0.5468 - val_loss: 2.4941 - val_acc: 0.5905\n",
      "Epoch 8/30\n",
      "3780/3780 [==============================] - 291s 77ms/step - loss: 2.2882 - acc: 0.6299 - val_loss: 2.4562 - val_acc: 0.6452\n",
      "Epoch 9/30\n",
      "3780/3780 [==============================] - 282s 75ms/step - loss: 2.2304 - acc: 0.6907 - val_loss: 2.4083 - val_acc: 0.6905\n",
      "Epoch 10/30\n",
      "3780/3780 [==============================] - 284s 75ms/step - loss: 2.1569 - acc: 0.7370 - val_loss: 2.3507 - val_acc: 0.6905\n",
      "Epoch 11/30\n",
      "3780/3780 [==============================] - 287s 76ms/step - loss: 2.0811 - acc: 0.7839 - val_loss: 2.2840 - val_acc: 0.6952\n",
      "Epoch 12/30\n",
      "3780/3780 [==============================] - 296s 78ms/step - loss: 1.9836 - acc: 0.8312 - val_loss: 2.2129 - val_acc: 0.7405\n",
      "Epoch 13/30\n",
      "3780/3780 [==============================] - 291s 77ms/step - loss: 1.9069 - acc: 0.8542 - val_loss: 2.1446 - val_acc: 0.7429\n",
      "Epoch 14/30\n",
      "3780/3780 [==============================] - 292s 77ms/step - loss: 1.8201 - acc: 0.8788 - val_loss: 2.0781 - val_acc: 0.7429\n",
      "Epoch 15/30\n",
      "3780/3780 [==============================] - 299s 79ms/step - loss: 1.7384 - acc: 0.8915 - val_loss: 2.0162 - val_acc: 0.7476\n",
      "Epoch 16/30\n",
      "3780/3780 [==============================] - 299s 79ms/step - loss: 1.6628 - acc: 0.8968 - val_loss: 1.9523 - val_acc: 0.7238\n",
      "Epoch 17/30\n",
      "3780/3780 [==============================] - 295s 78ms/step - loss: 1.5808 - acc: 0.9098 - val_loss: 1.8869 - val_acc: 0.7357\n",
      "Epoch 18/30\n",
      "3780/3780 [==============================] - 305s 81ms/step - loss: 1.4938 - acc: 0.9159 - val_loss: 1.8158 - val_acc: 0.7238\n",
      "Epoch 19/30\n",
      "3780/3780 [==============================] - 323s 85ms/step - loss: 1.4053 - acc: 0.9114 - val_loss: 1.7374 - val_acc: 0.7357\n",
      "Epoch 20/30\n",
      "3780/3780 [==============================] - 323s 86ms/step - loss: 1.3163 - acc: 0.9071 - val_loss: 1.6564 - val_acc: 0.7286\n",
      "Epoch 21/30\n",
      "3780/3780 [==============================] - 306s 81ms/step - loss: 1.1201 - acc: 0.9061 - val_loss: 1.4967 - val_acc: 0.7071\n",
      "Epoch 23/30\n",
      "3780/3780 [==============================] - 307s 81ms/step - loss: 1.0403 - acc: 0.9024 - val_loss: 1.4259 - val_acc: 0.7048\n",
      "Epoch 24/30\n",
      "3780/3780 [==============================] - 301s 80ms/step - loss: 0.9635 - acc: 0.9037 - val_loss: 1.3604 - val_acc: 0.7071\n",
      "Epoch 25/30\n",
      "3780/3780 [==============================] - 296s 78ms/step - loss: 0.8935 - acc: 0.8984 - val_loss: 1.3045 - val_acc: 0.7000\n",
      "Epoch 26/30\n",
      "3780/3780 [==============================] - 295s 78ms/step - loss: 0.8324 - acc: 0.9013 - val_loss: 1.2548 - val_acc: 0.7119\n",
      "Epoch 27/30\n",
      "3780/3780 [==============================] - 282s 75ms/step - loss: 0.7764 - acc: 0.9048 - val_loss: 1.2106 - val_acc: 0.7119\n",
      "Epoch 28/30\n",
      "3780/3780 [==============================] - 280s 74ms/step - loss: 0.7233 - acc: 0.9058 - val_loss: 1.1728 - val_acc: 0.7095\n",
      "Epoch 29/30\n",
      "3780/3780 [==============================] - 279s 74ms/step - loss: 0.6802 - acc: 0.9037 - val_loss: 1.1383 - val_acc: 0.7143\n",
      "Epoch 30/30\n",
      "3780/3780 [==============================] - 260s 69ms/step - loss: 0.6367 - acc: 0.9124 - val_loss: 1.1069 - val_acc: 0.7119\n"
     ]
    },
    {
     "data": {
      "text/plain": [
       "<keras.callbacks.History at 0x7fbc41a73470>"
      ]
     },
     "execution_count": 39,
     "metadata": {},
     "output_type": "execute_result"
    }
   ],
   "source": [
    "model.fit(x_train_1, y_train_1, \n",
    "          batch_size=batch_size, \n",
    "          epochs=30, \n",
    "          verbose=1, \n",
    "          validation_data=(x_val_1, y_val_1))  # starts training\n"
   ]
  },
  {
   "cell_type": "code",
   "execution_count": null,
   "metadata": {},
   "outputs": [],
   "source": []
  }
 ],
 "metadata": {
  "kernelspec": {
   "display_name": "Python 3",
   "language": "python",
   "name": "python3"
  },
  "language_info": {
   "codemirror_mode": {
    "name": "ipython",
    "version": 3
   },
   "file_extension": ".py",
   "mimetype": "text/x-python",
   "name": "python",
   "nbconvert_exporter": "python",
   "pygments_lexer": "ipython3",
   "version": "3.6.4"
  }
 },
 "nbformat": 4,
 "nbformat_minor": 2
}
