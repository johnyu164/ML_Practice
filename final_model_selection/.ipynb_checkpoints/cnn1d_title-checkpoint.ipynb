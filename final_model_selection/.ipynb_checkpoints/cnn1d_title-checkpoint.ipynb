{
 "cells": [
  {
   "cell_type": "code",
   "execution_count": 2,
   "metadata": {},
   "outputs": [],
   "source": [
    "%matplotlib inline\n",
    "\n",
    "import re\n",
    "import pandas as pd\n",
    "import os\n",
    "import seaborn as sns\n"
   ]
  },
  {
   "cell_type": "code",
   "execution_count": 3,
   "metadata": {},
   "outputs": [],
   "source": [
    "df = pd.read_csv('data/data_uniqcontent_t.csv')"
   ]
  },
  {
   "cell_type": "code",
   "execution_count": 4,
   "metadata": {},
   "outputs": [
    {
     "data": {
      "text/html": [
       "<div>\n",
       "<style scoped>\n",
       "    .dataframe tbody tr th:only-of-type {\n",
       "        vertical-align: middle;\n",
       "    }\n",
       "\n",
       "    .dataframe tbody tr th {\n",
       "        vertical-align: top;\n",
       "    }\n",
       "\n",
       "    .dataframe thead th {\n",
       "        text-align: right;\n",
       "    }\n",
       "</style>\n",
       "<table border=\"1\" class=\"dataframe\">\n",
       "  <thead>\n",
       "    <tr style=\"text-align: right;\">\n",
       "      <th></th>\n",
       "      <th>url</th>\n",
       "      <th>eigenWords</th>\n",
       "      <th>topKeyWords</th>\n",
       "      <th>content</th>\n",
       "      <th>title</th>\n",
       "      <th>class_no</th>\n",
       "      <th>sentences</th>\n",
       "      <th>sentences_1000</th>\n",
       "      <th>sentences_1000_str</th>\n",
       "      <th>t_sentences</th>\n",
       "      <th>title_str</th>\n",
       "    </tr>\n",
       "  </thead>\n",
       "  <tbody>\n",
       "    <tr>\n",
       "      <th>0</th>\n",
       "      <td>https://jobs.inside.com.tw/jobs/24780-%E6%8D%B...</td>\n",
       "      <td>['工程', '熟悉', '經驗', '工作', '能力', '具備', 'php', '不...</td>\n",
       "      <td>['code', 'code review', 'com', 'container', 'c...</td>\n",
       "      <td>NaN</td>\n",
       "      <td>INSIDE Job Board</td>\n",
       "      <td>10</td>\n",
       "      <td>[]</td>\n",
       "      <td>[]</td>\n",
       "      <td>NaN</td>\n",
       "      <td>['INSIDE', 'Job', 'Board']</td>\n",
       "      <td>INSIDE Job Board</td>\n",
       "    </tr>\n",
       "    <tr>\n",
       "      <th>1</th>\n",
       "      <td>https://www.blocktempo.com/cryptoexchange-max-...</td>\n",
       "      <td>['交易', '基於', '交易所', '宣布', '以太', '貨幣', 'usdt', ...</td>\n",
       "      <td>['asset', 'asset exchange', 'coin', 'doubt', '...</td>\n",
       "      <td>\b4月23日晚間，7點46分，Maicoin旗下的虛擬貨幣交易所MaicoinAssetEx...</td>\n",
       "      <td>【MAX交易所宣布支援USDT】基於以太坊 ERC-20 的 USDT 跟原本的USDT差在...</td>\n",
       "      <td>8</td>\n",
       "      <td>['\\x08', '月', '日', '晚間', '點', '分', 'Maicoin', ...</td>\n",
       "      <td>['\\x08', '月', '日', '晚間', '點', '分', 'Maicoin', ...</td>\n",
       "      <td>\b 月 日 晚間 點 分 Maicoin 旗下 虛擬 貨幣 交易所 MaicoinAsset...</td>\n",
       "      <td>['MAX', '交易所', '宣布', '支援', 'USDT', '以太', '坊', ...</td>\n",
       "      <td>MAX 交易所 宣布 支援 USDT 以太 坊 ERC USDT 原本 USDT 差 – B...</td>\n",
       "    </tr>\n",
       "    <tr>\n",
       "      <th>2</th>\n",
       "      <td>http://womany.net/read/article/15331?ref=rss&amp;u...</td>\n",
       "      <td>['工作', '轉職', '什麼', '自己', '公司', '辭職', '這份', '滿意...</td>\n",
       "      <td>['一下', '一個', '一定', '一年', '一樣', '一直', '下一', '不一...</td>\n",
       "      <td>\b你有轉職的考量嗎？你現今的工作可以符合你對未來人生的規劃嗎？透過五個轉職思考向度，檢視自己...</td>\n",
       "      <td>年前轉職：什麼情況下，你該毫不猶豫的換工作？｜女人迷 Womany</td>\n",
       "      <td>10</td>\n",
       "      <td>['\\x08', '轉職', '考量', '現今', '工作', '符合', '未來', '...</td>\n",
       "      <td>['\\x08', '轉職', '考量', '現今', '工作', '符合', '未來', '...</td>\n",
       "      <td>\b 轉職 考量 現今 工作 符合 未來 人生 規劃 透過 五個 轉職 思考 向度 檢視 是否...</td>\n",
       "      <td>['年前', '轉職', '情況', '下', '毫不猶豫', '的換', '工作', '女...</td>\n",
       "      <td>年前 轉職 情況 下 毫不猶豫 的換 工作 女人 迷 Womany</td>\n",
       "    </tr>\n",
       "    <tr>\n",
       "      <th>3</th>\n",
       "      <td>https://www.blocktempo.com/facebook-we-cant-co...</td>\n",
       "      <td>['數據', '區塊', '所有', '資料', '透過', '中心化', '市場', '用...</td>\n",
       "      <td>['analytica', 'cambridge', 'cambridge analytic...</td>\n",
       "      <td>\b在網路時代，金錢可能不再是最吸引人事物，有一群人正覬覦著你的資料。透過數據收買你的心早在2...</td>\n",
       "      <td>【獨立觀點】當臉書用戶個資遭濫用，區塊鏈卻試圖幫你拿回「數據所有權」 – BlockTemp...</td>\n",
       "      <td>8</td>\n",
       "      <td>['\\x08', '網路', '時代', '金錢', '最', '吸引', '人', '事物...</td>\n",
       "      <td>['\\x08', '網路', '時代', '金錢', '最', '吸引', '人', '事物...</td>\n",
       "      <td>\b 網路 時代 金錢 最 吸引 人 事物 一群 人正 覬覦 資料 透過 數據 收買 心早 美...</td>\n",
       "      <td>['獨立', '觀點', '當臉', '書', '用戶', '資遭', '濫用', '區塊'...</td>\n",
       "      <td>獨立 觀點 當臉 書 用戶 資遭 濫用 區塊 鏈 卻 試圖 幫 回 「 數據 所有權 – B...</td>\n",
       "    </tr>\n",
       "    <tr>\n",
       "      <th>4</th>\n",
       "      <td>https://www.blocktempo.com/facebook-we-cant-co...</td>\n",
       "      <td>['數據', '區塊', '所有', '資料', '臉書', '透過', '用戶', '中心...</td>\n",
       "      <td>['cambrigde', 'cambrigde analytica', 'datummar...</td>\n",
       "      <td>\b在網路時代，金錢可能不再是最吸引人事物，有一群人正覬覦著你的資料。透過數據收買你的心早在2...</td>\n",
       "      <td>【獨立觀點】當臉書用戶個資造濫用，區塊鏈卻試圖幫你拿回「數據所有權」 – BlockTemp...</td>\n",
       "      <td>8</td>\n",
       "      <td>['\\x08', '網路', '時代', '金錢', '最', '吸引', '人', '事物...</td>\n",
       "      <td>['\\x08', '網路', '時代', '金錢', '最', '吸引', '人', '事物...</td>\n",
       "      <td>\b 網路 時代 金錢 最 吸引 人 事物 一群 人正 覬覦 資料 透過 數據 收買 心早 美...</td>\n",
       "      <td>['獨立', '觀點', '當臉', '書', '用戶', '資造', '濫用', '區塊'...</td>\n",
       "      <td>獨立 觀點 當臉 書 用戶 資造 濫用 區塊 鏈 卻 試圖 幫 回 「 數據 所有權 – B...</td>\n",
       "    </tr>\n",
       "  </tbody>\n",
       "</table>\n",
       "</div>"
      ],
      "text/plain": [
       "                                                 url  \\\n",
       "0  https://jobs.inside.com.tw/jobs/24780-%E6%8D%B...   \n",
       "1  https://www.blocktempo.com/cryptoexchange-max-...   \n",
       "2  http://womany.net/read/article/15331?ref=rss&u...   \n",
       "3  https://www.blocktempo.com/facebook-we-cant-co...   \n",
       "4  https://www.blocktempo.com/facebook-we-cant-co...   \n",
       "\n",
       "                                          eigenWords  \\\n",
       "0  ['工程', '熟悉', '經驗', '工作', '能力', '具備', 'php', '不...   \n",
       "1  ['交易', '基於', '交易所', '宣布', '以太', '貨幣', 'usdt', ...   \n",
       "2  ['工作', '轉職', '什麼', '自己', '公司', '辭職', '這份', '滿意...   \n",
       "3  ['數據', '區塊', '所有', '資料', '透過', '中心化', '市場', '用...   \n",
       "4  ['數據', '區塊', '所有', '資料', '臉書', '透過', '用戶', '中心...   \n",
       "\n",
       "                                         topKeyWords  \\\n",
       "0  ['code', 'code review', 'com', 'container', 'c...   \n",
       "1  ['asset', 'asset exchange', 'coin', 'doubt', '...   \n",
       "2  ['一下', '一個', '一定', '一年', '一樣', '一直', '下一', '不一...   \n",
       "3  ['analytica', 'cambridge', 'cambridge analytic...   \n",
       "4  ['cambrigde', 'cambrigde analytica', 'datummar...   \n",
       "\n",
       "                                             content  \\\n",
       "0                                                NaN   \n",
       "1  \b4月23日晚間，7點46分，Maicoin旗下的虛擬貨幣交易所MaicoinAssetEx...   \n",
       "2  \b你有轉職的考量嗎？你現今的工作可以符合你對未來人生的規劃嗎？透過五個轉職思考向度，檢視自己...   \n",
       "3  \b在網路時代，金錢可能不再是最吸引人事物，有一群人正覬覦著你的資料。透過數據收買你的心早在2...   \n",
       "4  \b在網路時代，金錢可能不再是最吸引人事物，有一群人正覬覦著你的資料。透過數據收買你的心早在2...   \n",
       "\n",
       "                                               title  class_no  \\\n",
       "0                                   INSIDE Job Board        10   \n",
       "1  【MAX交易所宣布支援USDT】基於以太坊 ERC-20 的 USDT 跟原本的USDT差在...         8   \n",
       "2                  年前轉職：什麼情況下，你該毫不猶豫的換工作？｜女人迷 Womany        10   \n",
       "3  【獨立觀點】當臉書用戶個資遭濫用，區塊鏈卻試圖幫你拿回「數據所有權」 – BlockTemp...         8   \n",
       "4  【獨立觀點】當臉書用戶個資造濫用，區塊鏈卻試圖幫你拿回「數據所有權」 – BlockTemp...         8   \n",
       "\n",
       "                                           sentences  \\\n",
       "0                                                 []   \n",
       "1  ['\\x08', '月', '日', '晚間', '點', '分', 'Maicoin', ...   \n",
       "2  ['\\x08', '轉職', '考量', '現今', '工作', '符合', '未來', '...   \n",
       "3  ['\\x08', '網路', '時代', '金錢', '最', '吸引', '人', '事物...   \n",
       "4  ['\\x08', '網路', '時代', '金錢', '最', '吸引', '人', '事物...   \n",
       "\n",
       "                                      sentences_1000  \\\n",
       "0                                                 []   \n",
       "1  ['\\x08', '月', '日', '晚間', '點', '分', 'Maicoin', ...   \n",
       "2  ['\\x08', '轉職', '考量', '現今', '工作', '符合', '未來', '...   \n",
       "3  ['\\x08', '網路', '時代', '金錢', '最', '吸引', '人', '事物...   \n",
       "4  ['\\x08', '網路', '時代', '金錢', '最', '吸引', '人', '事物...   \n",
       "\n",
       "                                  sentences_1000_str  \\\n",
       "0                                                NaN   \n",
       "1  \b 月 日 晚間 點 分 Maicoin 旗下 虛擬 貨幣 交易所 MaicoinAsset...   \n",
       "2  \b 轉職 考量 現今 工作 符合 未來 人生 規劃 透過 五個 轉職 思考 向度 檢視 是否...   \n",
       "3  \b 網路 時代 金錢 最 吸引 人 事物 一群 人正 覬覦 資料 透過 數據 收買 心早 美...   \n",
       "4  \b 網路 時代 金錢 最 吸引 人 事物 一群 人正 覬覦 資料 透過 數據 收買 心早 美...   \n",
       "\n",
       "                                         t_sentences  \\\n",
       "0                         ['INSIDE', 'Job', 'Board']   \n",
       "1  ['MAX', '交易所', '宣布', '支援', 'USDT', '以太', '坊', ...   \n",
       "2  ['年前', '轉職', '情況', '下', '毫不猶豫', '的換', '工作', '女...   \n",
       "3  ['獨立', '觀點', '當臉', '書', '用戶', '資遭', '濫用', '區塊'...   \n",
       "4  ['獨立', '觀點', '當臉', '書', '用戶', '資造', '濫用', '區塊'...   \n",
       "\n",
       "                                           title_str  \n",
       "0                                   INSIDE Job Board  \n",
       "1  MAX 交易所 宣布 支援 USDT 以太 坊 ERC USDT 原本 USDT 差 – B...  \n",
       "2                  年前 轉職 情況 下 毫不猶豫 的換 工作 女人 迷 Womany  \n",
       "3  獨立 觀點 當臉 書 用戶 資遭 濫用 區塊 鏈 卻 試圖 幫 回 「 數據 所有權 – B...  \n",
       "4  獨立 觀點 當臉 書 用戶 資造 濫用 區塊 鏈 卻 試圖 幫 回 「 數據 所有權 – B...  "
      ]
     },
     "execution_count": 4,
     "metadata": {},
     "output_type": "execute_result"
    }
   ],
   "source": [
    "df.head()"
   ]
  },
  {
   "cell_type": "code",
   "execution_count": 5,
   "metadata": {},
   "outputs": [],
   "source": [
    "df.drop(df[pd.isnull(df['title_str'])].index, inplace=True)"
   ]
  },
  {
   "cell_type": "code",
   "execution_count": 6,
   "metadata": {},
   "outputs": [
    {
     "name": "stderr",
     "output_type": "stream",
     "text": [
      "Using TensorFlow backend.\n"
     ]
    }
   ],
   "source": [
    "from keras.preprocessing.text import Tokenizer\n",
    "from keras.preprocessing.sequence import pad_sequences\n",
    "from keras.utils import to_categorical\n",
    "import numpy as np"
   ]
  },
  {
   "cell_type": "code",
   "execution_count": 7,
   "metadata": {},
   "outputs": [
    {
     "data": {
      "text/plain": [
       "count    81650.000000\n",
       "mean        46.269700\n",
       "std         16.559659\n",
       "min          2.000000\n",
       "25%         35.000000\n",
       "50%         44.000000\n",
       "75%         56.000000\n",
       "max        246.000000\n",
       "Name: title_str, dtype: float64"
      ]
     },
     "execution_count": 7,
     "metadata": {},
     "output_type": "execute_result"
    }
   ],
   "source": [
    "df['title_str'].str.len().describe()"
   ]
  },
  {
   "cell_type": "code",
   "execution_count": 8,
   "metadata": {},
   "outputs": [],
   "source": [
    "MAX_SEQUENCE_LENGTH = 246\n",
    "EMBEDDING_DIM = 200\n",
    "\n",
    "\n",
    "tokenizer = Tokenizer()\n",
    "tokenizer.fit_on_texts(df['title_str'])\n",
    "sequences = tokenizer.texts_to_sequences(df['title_str'])\n"
   ]
  },
  {
   "cell_type": "code",
   "execution_count": 9,
   "metadata": {},
   "outputs": [],
   "source": [
    "word_index = tokenizer.word_index"
   ]
  },
  {
   "cell_type": "code",
   "execution_count": 10,
   "metadata": {},
   "outputs": [
    {
     "name": "stdout",
     "output_type": "stream",
     "text": [
      "Shape of data tensor: (81650, 246)\n",
      "Shape of label tensor: (81650, 14)\n"
     ]
    }
   ],
   "source": [
    "all_data = pad_sequences(sequences, maxlen=MAX_SEQUENCE_LENGTH)\n",
    "labels = to_categorical(np.asarray(df['class_no']))\n",
    "print('Shape of data tensor:', all_data.shape)\n",
    "print('Shape of label tensor:', labels.shape)"
   ]
  },
  {
   "cell_type": "code",
   "execution_count": 11,
   "metadata": {},
   "outputs": [],
   "source": [
    "from sklearn.model_selection import train_test_split\n",
    "x_train,x_val,y_train,y_val = train_test_split(all_data,labels,test_size=0.3,stratify=labels)"
   ]
  },
  {
   "cell_type": "code",
   "execution_count": 12,
   "metadata": {},
   "outputs": [
    {
     "data": {
      "text/plain": [
       "((57155, 246), (57155, 14))"
      ]
     },
     "execution_count": 12,
     "metadata": {},
     "output_type": "execute_result"
    }
   ],
   "source": [
    "x_train.shape,y_train.shape"
   ]
  },
  {
   "cell_type": "code",
   "execution_count": 13,
   "metadata": {},
   "outputs": [
    {
     "data": {
      "text/plain": [
       "90040"
      ]
     },
     "execution_count": 13,
     "metadata": {},
     "output_type": "execute_result"
    }
   ],
   "source": [
    "len(word_index)"
   ]
  },
  {
   "cell_type": "code",
   "execution_count": 14,
   "metadata": {},
   "outputs": [
    {
     "name": "stdout",
     "output_type": "stream",
     "text": [
      "_________________________________________________________________\n",
      "Layer (type)                 Output Shape              Param #   \n",
      "=================================================================\n",
      "embedding_1 (Embedding)      (None, 246, 200)          18008200  \n",
      "_________________________________________________________________\n",
      "dropout_1 (Dropout)          (None, 246, 200)          0         \n",
      "_________________________________________________________________\n",
      "conv1d_1 (Conv1D)            (None, 244, 250)          150250    \n",
      "_________________________________________________________________\n",
      "max_pooling1d_1 (MaxPooling1 (None, 81, 250)           0         \n",
      "_________________________________________________________________\n",
      "flatten_1 (Flatten)          (None, 20250)             0         \n",
      "_________________________________________________________________\n",
      "dense_1 (Dense)              (None, 200)               4050200   \n",
      "_________________________________________________________________\n",
      "dense_2 (Dense)              (None, 14)                2814      \n",
      "=================================================================\n",
      "Total params: 22,211,464\n",
      "Trainable params: 22,211,464\n",
      "Non-trainable params: 0\n",
      "_________________________________________________________________\n",
      "['loss', 'acc']\n"
     ]
    }
   ],
   "source": [
    "from keras.layers import Dense, Input, Flatten, Dropout\n",
    "from keras.layers import Conv1D, MaxPooling1D, Embedding, GlobalMaxPooling1D\n",
    "from keras.models import Sequential\n",
    "\n",
    "model = Sequential()\n",
    "model.add(Embedding(len(word_index) + 1, EMBEDDING_DIM, input_length=MAX_SEQUENCE_LENGTH))\n",
    "model.add(Dropout(0.2))\n",
    "model.add(Conv1D(250, 3, padding='valid', activation='relu', strides=1))\n",
    "model.add(MaxPooling1D(3))\n",
    "model.add(Flatten())\n",
    "model.add(Dense(EMBEDDING_DIM, activation='relu'))\n",
    "model.add(Dense(labels.shape[1], activation='softmax'))\n",
    "model.summary()\n",
    "#plot_model(model, to_file='model.png',show_shapes=True)\n",
    "\n",
    "model.compile(loss='categorical_crossentropy',\n",
    "              optimizer='rmsprop',\n",
    "              metrics=['acc'])\n",
    "print(model.metrics_names)"
   ]
  },
  {
   "cell_type": "code",
   "execution_count": 15,
   "metadata": {},
   "outputs": [
    {
     "name": "stdout",
     "output_type": "stream",
     "text": [
      "Train on 57155 samples, validate on 24495 samples\n",
      "Epoch 1/5\n",
      "57155/57155 [==============================] - 13s 229us/step - loss: 0.9845 - acc: 0.6903 - val_loss: 0.6259 - val_acc: 0.8038\n",
      "Epoch 2/5\n",
      "57155/57155 [==============================] - 10s 178us/step - loss: 0.4970 - acc: 0.8411 - val_loss: 0.5884 - val_acc: 0.8107\n",
      "Epoch 3/5\n",
      "57155/57155 [==============================] - 10s 177us/step - loss: 0.3801 - acc: 0.8787 - val_loss: 0.6056 - val_acc: 0.8063\n",
      "Epoch 4/5\n",
      "57155/57155 [==============================] - 10s 176us/step - loss: 0.2883 - acc: 0.9102 - val_loss: 0.6281 - val_acc: 0.8071\n",
      "Epoch 5/5\n",
      "57155/57155 [==============================] - 10s 177us/step - loss: 0.2108 - acc: 0.9350 - val_loss: 0.6919 - val_acc: 0.7981\n"
     ]
    },
    {
     "data": {
      "text/plain": [
       "<keras.callbacks.History at 0x7f695c16bf28>"
      ]
     },
     "execution_count": 15,
     "metadata": {},
     "output_type": "execute_result"
    }
   ],
   "source": [
    "\n",
    "model.fit(x_train, y_train, validation_data=(x_val, y_val), epochs=5, batch_size=128)\n"
   ]
  },
  {
   "cell_type": "code",
   "execution_count": null,
   "metadata": {},
   "outputs": [],
   "source": []
  },
  {
   "cell_type": "code",
   "execution_count": null,
   "metadata": {},
   "outputs": [],
   "source": []
  }
 ],
 "metadata": {
  "kernelspec": {
   "display_name": "Python 3",
   "language": "python",
   "name": "python3"
  },
  "language_info": {
   "codemirror_mode": {
    "name": "ipython",
    "version": 3
   },
   "file_extension": ".py",
   "mimetype": "text/x-python",
   "name": "python",
   "nbconvert_exporter": "python",
   "pygments_lexer": "ipython3",
   "version": "3.6.6"
  }
 },
 "nbformat": 4,
 "nbformat_minor": 2
}
