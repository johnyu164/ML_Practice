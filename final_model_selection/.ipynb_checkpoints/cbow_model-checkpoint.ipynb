{
 "cells": [
  {
   "cell_type": "code",
   "execution_count": 1,
   "metadata": {},
   "outputs": [],
   "source": [
    "%matplotlib inline\n",
    "\n",
    "import pandas as pd\n",
    "import os\n",
    "import numpy as np"
   ]
  },
  {
   "cell_type": "code",
   "execution_count": 2,
   "metadata": {},
   "outputs": [],
   "source": [
    "df = pd.read_csv('data/data_uniqcontent.csv')"
   ]
  },
  {
   "cell_type": "code",
   "execution_count": 3,
   "metadata": {},
   "outputs": [],
   "source": [
    "df.drop(df[pd.isnull(df['sentences_1000_str'])].index, inplace=True)"
   ]
  },
  {
   "cell_type": "code",
   "execution_count": 4,
   "metadata": {},
   "outputs": [
    {
     "name": "stderr",
     "output_type": "stream",
     "text": [
      "Using TensorFlow backend.\n"
     ]
    }
   ],
   "source": [
    "from keras.preprocessing.text import Tokenizer\n",
    "from keras.preprocessing.sequence import pad_sequences\n",
    "from keras.utils import to_categorical\n",
    "import numpy as np"
   ]
  },
  {
   "cell_type": "code",
   "execution_count": 5,
   "metadata": {},
   "outputs": [],
   "source": [
    "MAX_SEQUENCE_LENGTH = 1000\n",
    "EMBEDDING_DIM = 300\n",
    "\n",
    "\n",
    "tokenizer = Tokenizer()\n",
    "tokenizer.fit_on_texts(df['sentences_1000_str'])\n",
    "sequences = tokenizer.texts_to_sequences(df['sentences_1000_str'])\n"
   ]
  },
  {
   "cell_type": "code",
   "execution_count": 6,
   "metadata": {},
   "outputs": [],
   "source": [
    "word_index = tokenizer.word_index"
   ]
  },
  {
   "cell_type": "code",
   "execution_count": 7,
   "metadata": {},
   "outputs": [],
   "source": [
    "from gensim.models import word2vec\n",
    "wv_model = word2vec.KeyedVectors.load_word2vec_format('./renmin_zh_tw.txt', binary=False)"
   ]
  },
  {
   "cell_type": "code",
   "execution_count": 8,
   "metadata": {},
   "outputs": [],
   "source": [
    "embeddings_index = {}\n",
    "word_vectors = wv_model.wv\n",
    "for word, vocab_obj in wv_model.wv.vocab.items():\n",
    "    embeddings_index[word] = word_vectors[word]"
   ]
  },
  {
   "cell_type": "code",
   "execution_count": 9,
   "metadata": {},
   "outputs": [],
   "source": [
    "embedding_matrix = np.zeros((len(word_index)+1, EMBEDDING_DIM))\n",
    "for word, i in word_index.items():\n",
    "    embedding_vector = embeddings_index.get(word)\n",
    "    if embedding_vector is not None:\n",
    "        embedding_matrix[i] = embedding_vector\n"
   ]
  },
  {
   "cell_type": "code",
   "execution_count": 10,
   "metadata": {},
   "outputs": [
    {
     "name": "stdout",
     "output_type": "stream",
     "text": [
      "Shape of data tensor: (81649, 1000)\n",
      "Shape of label tensor: (81649, 14)\n"
     ]
    }
   ],
   "source": [
    "all_data = pad_sequences(sequences, maxlen=MAX_SEQUENCE_LENGTH)\n",
    "labels = to_categorical(np.asarray(df['class_no']))\n",
    "print('Shape of data tensor:', all_data.shape)\n",
    "print('Shape of label tensor:', labels.shape)"
   ]
  },
  {
   "cell_type": "code",
   "execution_count": 11,
   "metadata": {},
   "outputs": [],
   "source": [
    "from sklearn.model_selection import train_test_split\n",
    "x_train,x_val,y_train,y_val = train_test_split(all_data,labels,test_size=0.3,stratify=labels)"
   ]
  },
  {
   "cell_type": "code",
   "execution_count": 12,
   "metadata": {},
   "outputs": [
    {
     "data": {
      "text/plain": [
       "((57154, 1000), (57154, 14))"
      ]
     },
     "execution_count": 12,
     "metadata": {},
     "output_type": "execute_result"
    }
   ],
   "source": [
    "x_train.shape,y_train.shape"
   ]
  },
  {
   "cell_type": "markdown",
   "metadata": {},
   "source": [
    "## CBOW model"
   ]
  },
  {
   "cell_type": "code",
   "execution_count": 14,
   "metadata": {},
   "outputs": [],
   "source": [
    "from keras.layers import Dense, Input, Flatten\n",
    "from keras.layers import GlobalAveragePooling1D, Embedding\n",
    "from keras.models import Model\n",
    "\n",
    "N_CLASSES = 14\n",
    "\n",
    "# input: a sequence of MAX_SEQUENCE_LENGTH integers\n",
    "sequence_input = Input(shape=(MAX_SEQUENCE_LENGTH,), dtype='int32')\n",
    "\n",
    "embedding_layer = Embedding(len(word_index)+1, EMBEDDING_DIM,\n",
    "                            input_length=MAX_SEQUENCE_LENGTH,\n",
    "                            trainable=True)\n",
    "embedded_sequences = embedding_layer(sequence_input)\n",
    "\n",
    "average = GlobalAveragePooling1D()(embedded_sequences)\n",
    "predictions = Dense(N_CLASSES, activation='softmax')(average)\n",
    "\n",
    "model = Model(sequence_input, predictions)\n",
    "model.compile(loss='categorical_crossentropy',\n",
    "              optimizer='adam', metrics=['acc'])"
   ]
  },
  {
   "cell_type": "code",
   "execution_count": 14,
   "metadata": {},
   "outputs": [
    {
     "name": "stderr",
     "output_type": "stream",
     "text": [
      "/opt/conda/lib/python3.6/site-packages/tensorflow/python/ops/gradients_impl.py:105: UserWarning: Converting sparse IndexedSlices to a dense Tensor with 209064600 elements. This may consume a large amount of memory.\n",
      "  num_elements)\n"
     ]
    },
    {
     "name": "stdout",
     "output_type": "stream",
     "text": [
      "Train on 57154 samples, validate on 24495 samples\n",
      "Epoch 1/10\n",
      "57154/57154 [==============================] - 60s 1ms/step - loss: 1.8761 - acc: 0.4962 - val_loss: 1.1794 - val_acc: 0.6994\n",
      "Epoch 2/10\n",
      "57154/57154 [==============================] - 48s 845us/step - loss: 0.9171 - acc: 0.7580 - val_loss: 0.8134 - val_acc: 0.7749\n",
      "Epoch 3/10\n",
      "57154/57154 [==============================] - 48s 844us/step - loss: 0.6841 - acc: 0.8092 - val_loss: 0.7163 - val_acc: 0.7967\n",
      "Epoch 4/10\n",
      "57154/57154 [==============================] - 48s 843us/step - loss: 0.5728 - acc: 0.8369 - val_loss: 0.6728 - val_acc: 0.8084\n",
      "Epoch 5/10\n",
      "57154/57154 [==============================] - 48s 843us/step - loss: 0.4909 - acc: 0.8622 - val_loss: 0.6454 - val_acc: 0.8107\n",
      "Epoch 6/10\n",
      "57154/57154 [==============================] - 48s 843us/step - loss: 0.4223 - acc: 0.8838 - val_loss: 0.6282 - val_acc: 0.8164\n",
      "Epoch 7/10\n",
      "57154/57154 [==============================] - 48s 843us/step - loss: 0.3624 - acc: 0.9030 - val_loss: 0.6162 - val_acc: 0.8187\n",
      "Epoch 8/10\n",
      "57154/57154 [==============================] - 48s 842us/step - loss: 0.3107 - acc: 0.9198 - val_loss: 0.6144 - val_acc: 0.8218\n",
      "Epoch 9/10\n",
      "57154/57154 [==============================] - 48s 843us/step - loss: 0.2651 - acc: 0.9342 - val_loss: 0.6135 - val_acc: 0.8223\n",
      "Epoch 10/10\n",
      "57154/57154 [==============================] - 48s 843us/step - loss: 0.2263 - acc: 0.9448 - val_loss: 0.6170 - val_acc: 0.8223\n"
     ]
    },
    {
     "data": {
      "text/plain": [
       "<keras.callbacks.History at 0x7f4a13d48080>"
      ]
     },
     "execution_count": 14,
     "metadata": {},
     "output_type": "execute_result"
    }
   ],
   "source": [
    "model.fit(x_train, y_train, batch_size=128, epochs=10, verbose=1, validation_data=(x_val, y_val))  # starts training"
   ]
  },
  {
   "cell_type": "markdown",
   "metadata": {},
   "source": [
    "## Pretrain CBOW model"
   ]
  },
  {
   "cell_type": "code",
   "execution_count": 13,
   "metadata": {},
   "outputs": [
    {
     "name": "stdout",
     "output_type": "stream",
     "text": [
      "_________________________________________________________________\n",
      "Layer (type)                 Output Shape              Param #   \n",
      "=================================================================\n",
      "input_1 (InputLayer)         (None, 1000)              0         \n",
      "_________________________________________________________________\n",
      "embedding_1 (Embedding)      (None, 1000, 300)         209064600 \n",
      "_________________________________________________________________\n",
      "global_average_pooling1d_1 ( (None, 300)               0         \n",
      "_________________________________________________________________\n",
      "dense_1 (Dense)              (None, 14)                4214      \n",
      "=================================================================\n",
      "Total params: 209,068,814\n",
      "Trainable params: 4,214\n",
      "Non-trainable params: 209,064,600\n",
      "_________________________________________________________________\n"
     ]
    }
   ],
   "source": [
    "from keras.layers import Dense, Input, Flatten\n",
    "from keras.layers import GlobalAveragePooling1D, Embedding\n",
    "from keras.models import Model\n",
    "\n",
    "N_CLASSES = 14\n",
    "\n",
    "# input: a sequence of MAX_SEQUENCE_LENGTH integers\n",
    "sequence_input = Input(shape=(MAX_SEQUENCE_LENGTH,), dtype='int32')\n",
    "\n",
    "embedding_layer = Embedding(len(word_index)+1, \n",
    "                            EMBEDDING_DIM,\n",
    "                            weights=[embedding_matrix],\n",
    "                            input_length=MAX_SEQUENCE_LENGTH,\n",
    "                            trainable=False)\n",
    "embedded_sequences = embedding_layer(sequence_input)\n",
    "\n",
    "average = GlobalAveragePooling1D()(embedded_sequences)\n",
    "predictions = Dense(N_CLASSES, activation='softmax')(average)\n",
    "\n",
    "model = Model(sequence_input, predictions)\n",
    "model.compile(loss='categorical_crossentropy',\n",
    "              optimizer='adam', metrics=['acc'])\n",
    "model.summary()"
   ]
  },
  {
   "cell_type": "code",
   "execution_count": 16,
   "metadata": {},
   "outputs": [
    {
     "name": "stdout",
     "output_type": "stream",
     "text": [
      "Train on 57154 samples, validate on 24495 samples\n",
      "Epoch 1/10\n",
      "57154/57154 [==============================] - 3s 52us/step - loss: 2.3054 - acc: 0.3747 - val_loss: 2.0800 - val_acc: 0.5195\n",
      "Epoch 2/10\n",
      "57154/57154 [==============================] - 3s 46us/step - loss: 1.9330 - acc: 0.5479 - val_loss: 1.8042 - val_acc: 0.5657\n",
      "Epoch 3/10\n",
      "57154/57154 [==============================] - 3s 47us/step - loss: 1.7124 - acc: 0.5867 - val_loss: 1.6298 - val_acc: 0.6013\n",
      "Epoch 4/10\n",
      "57154/57154 [==============================] - 3s 50us/step - loss: 1.5661 - acc: 0.6145 - val_loss: 1.5090 - val_acc: 0.6175\n",
      "Epoch 5/10\n",
      "57154/57154 [==============================] - 3s 50us/step - loss: 1.4613 - acc: 0.6326 - val_loss: 1.4202 - val_acc: 0.6341\n",
      "Epoch 6/10\n",
      "57154/57154 [==============================] - 3s 48us/step - loss: 1.3823 - acc: 0.6457 - val_loss: 1.3518 - val_acc: 0.6451\n",
      "Epoch 7/10\n",
      "57154/57154 [==============================] - 3s 50us/step - loss: 1.3204 - acc: 0.6566 - val_loss: 1.2971 - val_acc: 0.6533\n",
      "Epoch 8/10\n",
      "57154/57154 [==============================] - 3s 49us/step - loss: 1.2706 - acc: 0.6656 - val_loss: 1.2530 - val_acc: 0.6617\n",
      "Epoch 9/10\n",
      "57154/57154 [==============================] - 3s 49us/step - loss: 1.2295 - acc: 0.6730 - val_loss: 1.2162 - val_acc: 0.6695\n",
      "Epoch 10/10\n",
      "57154/57154 [==============================] - 3s 48us/step - loss: 1.1952 - acc: 0.6793 - val_loss: 1.1854 - val_acc: 0.6770\n"
     ]
    },
    {
     "data": {
      "text/plain": [
       "<keras.callbacks.History at 0x7f4988b92080>"
      ]
     },
     "execution_count": 16,
     "metadata": {},
     "output_type": "execute_result"
    }
   ],
   "source": [
    "model.fit(x_train, y_train, batch_size=128, epochs=10, verbose=1, validation_data=(x_val, y_val))  # starts training"
   ]
  },
  {
   "cell_type": "markdown",
   "metadata": {},
   "source": [
    "## Pretrain embeding CNN-LSTM Model"
   ]
  },
  {
   "cell_type": "code",
   "execution_count": 16,
   "metadata": {},
   "outputs": [],
   "source": [
    "from keras.layers import LSTM, Conv1D, MaxPooling1D, Dropout\n",
    "\n",
    "sequence_input = Input(shape=(MAX_SEQUENCE_LENGTH,), dtype='int32')\n",
    "embedding_layer = Embedding(len(word_index)+1, \n",
    "                            EMBEDDING_DIM,\n",
    "                            weights=[embedding_matrix],\n",
    "                            input_length=MAX_SEQUENCE_LENGTH,\n",
    "                            trainable=False)\n",
    "embedded_sequences = embedding_layer(sequence_input)\n",
    "\n",
    "# 1D convolution with 64 output channels\n",
    "x = Conv1D(250, 3)(embedded_sequences)\n",
    "# MaxPool divides the length of the sequence by 5\n",
    "x = MaxPooling1D(3)(x)\n",
    "x = Dropout(0.2)(x)\n",
    "x = Conv1D(250, 3)(x)\n",
    "x = MaxPooling1D(3)(x)\n",
    "# LSTM layer with a hidden size of 64\n",
    "x = Dropout(0.2)(x)\n",
    "x = LSTM(250)(x)\n",
    "predictions = Dense(14, activation='softmax')(x)\n",
    "\n",
    "model = Model(sequence_input, predictions)\n",
    "model.compile(loss='categorical_crossentropy',\n",
    "              optimizer='adam',\n",
    "              metrics=['acc'])"
   ]
  },
  {
   "cell_type": "code",
   "execution_count": 17,
   "metadata": {},
   "outputs": [
    {
     "name": "stdout",
     "output_type": "stream",
     "text": [
      "_________________________________________________________________\n",
      "Layer (type)                 Output Shape              Param #   \n",
      "=================================================================\n",
      "input_3 (InputLayer)         (None, 1000)              0         \n",
      "_________________________________________________________________\n",
      "embedding_3 (Embedding)      (None, 1000, 300)         209064600 \n",
      "_________________________________________________________________\n",
      "conv1d_1 (Conv1D)            (None, 998, 250)          225250    \n",
      "_________________________________________________________________\n",
      "max_pooling1d_1 (MaxPooling1 (None, 332, 250)          0         \n",
      "_________________________________________________________________\n",
      "dropout_1 (Dropout)          (None, 332, 250)          0         \n",
      "_________________________________________________________________\n",
      "conv1d_2 (Conv1D)            (None, 330, 250)          187750    \n",
      "_________________________________________________________________\n",
      "max_pooling1d_2 (MaxPooling1 (None, 110, 250)          0         \n",
      "_________________________________________________________________\n",
      "dropout_2 (Dropout)          (None, 110, 250)          0         \n",
      "_________________________________________________________________\n",
      "lstm_1 (LSTM)                (None, 250)               501000    \n",
      "_________________________________________________________________\n",
      "dense_3 (Dense)              (None, 14)                3514      \n",
      "=================================================================\n",
      "Total params: 209,982,114\n",
      "Trainable params: 917,514\n",
      "Non-trainable params: 209,064,600\n",
      "_________________________________________________________________\n"
     ]
    }
   ],
   "source": [
    "model.summary()"
   ]
  },
  {
   "cell_type": "code",
   "execution_count": 18,
   "metadata": {},
   "outputs": [
    {
     "name": "stdout",
     "output_type": "stream",
     "text": [
      "Train on 57154 samples, validate on 24495 samples\n",
      "Epoch 1/10\n",
      "57154/57154 [==============================] - 115s 2ms/step - loss: 0.9119 - acc: 0.6921 - val_loss: 0.7092 - val_acc: 0.7575\n",
      "Epoch 2/10\n",
      "57154/57154 [==============================] - 113s 2ms/step - loss: 0.6588 - acc: 0.7724 - val_loss: 0.6215 - val_acc: 0.7848\n",
      "Epoch 3/10\n",
      "57154/57154 [==============================] - 114s 2ms/step - loss: 0.5821 - acc: 0.7956 - val_loss: 0.6038 - val_acc: 0.7952\n",
      "Epoch 4/10\n",
      "57154/57154 [==============================] - 104s 2ms/step - loss: 0.5332 - acc: 0.8114 - val_loss: 0.5964 - val_acc: 0.7898\n",
      "Epoch 5/10\n",
      "57154/57154 [==============================] - 97s 2ms/step - loss: 0.4923 - acc: 0.8229 - val_loss: 0.5489 - val_acc: 0.8108\n",
      "Epoch 6/10\n",
      "57154/57154 [==============================] - 97s 2ms/step - loss: 0.4630 - acc: 0.8329 - val_loss: 0.5720 - val_acc: 0.8000\n",
      "Epoch 7/10\n",
      "57154/57154 [==============================] - 97s 2ms/step - loss: 0.4210 - acc: 0.8476 - val_loss: 0.5829 - val_acc: 0.8011\n",
      "Epoch 8/10\n",
      "57154/57154 [==============================] - 97s 2ms/step - loss: 0.3891 - acc: 0.8590 - val_loss: 0.5555 - val_acc: 0.8065\n",
      "Epoch 9/10\n",
      "57154/57154 [==============================] - 98s 2ms/step - loss: 0.3575 - acc: 0.8697 - val_loss: 0.5974 - val_acc: 0.8033\n",
      "Epoch 10/10\n",
      "57154/57154 [==============================] - 101s 2ms/step - loss: 0.3194 - acc: 0.8838 - val_loss: 0.5909 - val_acc: 0.7993\n"
     ]
    },
    {
     "data": {
      "text/plain": [
       "<keras.callbacks.History at 0x7f855eb4fb00>"
      ]
     },
     "execution_count": 18,
     "metadata": {},
     "output_type": "execute_result"
    }
   ],
   "source": [
    "model.fit(x_train, y_train, batch_size=128, epochs=10, verbose=1, validation_data=(x_val, y_val))  # starts training"
   ]
  },
  {
   "cell_type": "code",
   "execution_count": 19,
   "metadata": {},
   "outputs": [],
   "source": [
    "from keras import backend as K\n",
    "get_emb_layer_output = K.function([model.layers[0].input],\n",
    "                                  [model.layers[2].input])"
   ]
  },
  {
   "cell_type": "code",
   "execution_count": 20,
   "metadata": {},
   "outputs": [],
   "source": [
    "embedding_output = get_emb_layer_output([x_val[:3000]])[0]"
   ]
  },
  {
   "cell_type": "code",
   "execution_count": 21,
   "metadata": {},
   "outputs": [],
   "source": [
    "emb_shape = embedding_output.shape\n",
    "to_plot_embedding = embedding_output.reshape(emb_shape[0],emb_shape[1]*emb_shape[2])\n",
    "y = y_val[:3000]"
   ]
  },
  {
   "cell_type": "code",
   "execution_count": 22,
   "metadata": {},
   "outputs": [],
   "source": [
    "from sklearn.manifold import TSNE\n",
    "sentence_emb_tsne = TSNE(perplexity=30).fit_transform(to_plot_embedding)\n"
   ]
  },
  {
   "cell_type": "code",
   "execution_count": 23,
   "metadata": {},
   "outputs": [
    {
     "data": {
      "text/plain": [
       "array([[-0.09482788, -0.6395097 ],\n",
       "       [-1.5512412 ,  3.551922  ],\n",
       "       [68.320786  ,  7.2516537 ],\n",
       "       ...,\n",
       "       [-2.0166242 ,  1.8927759 ],\n",
       "       [-6.2935367 , -5.0248957 ],\n",
       "       [31.54022   , 14.6378565 ]], dtype=float32)"
      ]
     },
     "execution_count": 23,
     "metadata": {},
     "output_type": "execute_result"
    }
   ],
   "source": [
    "sentence_emb_tsne"
   ]
  },
  {
   "cell_type": "code",
   "execution_count": 24,
   "metadata": {},
   "outputs": [],
   "source": [
    "yv = np.argmax(y,axis=1)"
   ]
  },
  {
   "cell_type": "code",
   "execution_count": 25,
   "metadata": {},
   "outputs": [
    {
     "data": {
      "image/png": "[encoded data removed]",
      "text/plain": [
       "<Figure size 432x288 with 1 Axes>"
      ]
     },
     "metadata": {
      "needs_background": "light"
     },
     "output_type": "display_data"
    }
   ],
   "source": [
    "import matplotlib.pyplot as plt\n",
    "plt.figure()\n",
    "plt.scatter(sentence_emb_tsne[np.where(yv == 2), 0],\n",
    "                   sentence_emb_tsne[np.where(yv == 2), 1],\n",
    "                   marker='p', color='y',\n",
    "                   linewidth='1', alpha=0.8, label='2')\n",
    "plt.scatter(sentence_emb_tsne[np.where(yv == 3), 0],\n",
    "                   sentence_emb_tsne[np.where(yv == 3), 1],\n",
    "                   marker='x', color='g',\n",
    "                   linewidth='1', alpha=0.8, label='3')\n",
    "plt.scatter(sentence_emb_tsne[np.where(yv == 4), 0],\n",
    "                   sentence_emb_tsne[np.where(yv == 4), 1],\n",
    "                   marker='v', color='r',\n",
    "                   linewidth='1', alpha=0.8, label='4')\n",
    "plt.scatter(sentence_emb_tsne[np.where(yv == 5), 0],\n",
    "                   sentence_emb_tsne[np.where(yv == 5), 1],\n",
    "                   marker='o', color='b',\n",
    "                   linewidth='1', alpha=0.8, label='5')\n",
    "\n",
    "plt.xlabel('Dim 1')\n",
    "plt.ylabel('Dim 2')\n",
    "plt.title('T-SNE')\n",
    "plt.legend(loc='best')\n",
    "plt.show()  "
   ]
  },
  {
   "cell_type": "code",
   "execution_count": 26,
   "metadata": {},
   "outputs": [],
   "source": [
    "from keras import backend as K\n",
    "get_emb_layer_output = K.function([model.layers[0].input],\n",
    "                                  [model.layers[2].input])"
   ]
  },
  {
   "cell_type": "code",
   "execution_count": 27,
   "metadata": {},
   "outputs": [],
   "source": [
    "embedding_output = get_emb_layer_output([x_val[:3000]])[0]"
   ]
  },
  {
   "cell_type": "code",
   "execution_count": 28,
   "metadata": {},
   "outputs": [
    {
     "data": {
      "text/plain": [
       "(3000, 1000, 300)"
      ]
     },
     "execution_count": 28,
     "metadata": {},
     "output_type": "execute_result"
    }
   ],
   "source": [
    "embedding_output.shape"
   ]
  },
  {
   "cell_type": "code",
   "execution_count": 29,
   "metadata": {},
   "outputs": [],
   "source": [
    "emb_shape = embedding_output.shape\n",
    "to_plot_embedding = embedding_output.reshape(emb_shape[0],emb_shape[1]*emb_shape[2])\n",
    "y = y_val[:3000]"
   ]
  },
  {
   "cell_type": "code",
   "execution_count": 32,
   "metadata": {},
   "outputs": [],
   "source": [
    "from sklearn.decomposition import PCA\n",
    "pca_2d = PCA(n_components=2)\n",
    "pca_result = pca_2d.fit_transform(to_plot_embedding)\n"
   ]
  },
  {
   "cell_type": "code",
   "execution_count": 35,
   "metadata": {},
   "outputs": [],
   "source": []
  },
  {
   "cell_type": "code",
   "execution_count": 33,
   "metadata": {},
   "outputs": [],
   "source": [
    "yv = np.argmax(y,axis=1)"
   ]
  },
  {
   "cell_type": "code",
   "execution_count": 34,
   "metadata": {},
   "outputs": [
    {
     "data": {
      "image/png": "[encoded data removed]",
      "text/plain": [
       "<Figure size 432x288 with 1 Axes>"
      ]
     },
     "metadata": {
      "needs_background": "light"
     },
     "output_type": "display_data"
    }
   ],
   "source": [
    "import matplotlib.pyplot as plt\n",
    "plt.figure()\n",
    "plt.scatter(pca_result[np.where(yv == 2), 0],\n",
    "                   pca_result[np.where(yv == 2), 1],\n",
    "                   marker='p', color='y',\n",
    "                   linewidth='1', alpha=0.8, label='2')\n",
    "plt.scatter(pca_result[np.where(yv == 3), 0],\n",
    "                   pca_result[np.where(yv == 3), 1],\n",
    "                   marker='x', color='g',\n",
    "                   linewidth='1', alpha=0.8, label='3')\n",
    "plt.scatter(pca_result[np.where(yv == 4), 0],\n",
    "                   pca_result[np.where(yv == 4), 1],\n",
    "                   marker='v', color='r',\n",
    "                   linewidth='1', alpha=0.8, label='4')\n",
    "plt.scatter(pca_result[np.where(yv == 5), 0],\n",
    "                   pca_result[np.where(yv == 5), 1],\n",
    "                   marker='o', color='b',\n",
    "                   linewidth='1', alpha=0.8, label='5')\n",
    "\n",
    "plt.xlabel('Dim 1')\n",
    "plt.ylabel('Dim 2')\n",
    "plt.title('PCA')\n",
    "plt.legend(loc='best')\n",
    "plt.show()  "
   ]
  },
  {
   "cell_type": "code",
   "execution_count": null,
   "metadata": {},
   "outputs": [],
   "source": [
    "from sklearn.decomposition import PCA\n",
    "pca_3d = PCA(n_components=3)\n",
    "pca_result = pca_3d.fit_transform(to_plot_embedding)"
   ]
  },
  {
   "cell_type": "code",
   "execution_count": 42,
   "metadata": {},
   "outputs": [
    {
     "data": {
      "text/plain": [
       "(3000, 3)"
      ]
     },
     "execution_count": 42,
     "metadata": {},
     "output_type": "execute_result"
    }
   ],
   "source": [
    "pca_result.shape"
   ]
  },
  {
   "cell_type": "code",
   "execution_count": 46,
   "metadata": {},
   "outputs": [
    {
     "data": {
      "text/plain": [
       "(3000, 3)"
      ]
     },
     "execution_count": 46,
     "metadata": {},
     "output_type": "execute_result"
    }
   ],
   "source": [
    "result.shape"
   ]
  },
  {
   "cell_type": "code",
   "execution_count": 87,
   "metadata": {},
   "outputs": [
    {
     "data": {
      "text/plain": [
       "<Figure size 480x480 with 0 Axes>"
      ]
     },
     "metadata": {},
     "output_type": "display_data"
    }
   ],
   "source": [
    "my_dpi=96\n",
    "plt.figure(figsize=(480/my_dpi, 480/my_dpi), dpi=my_dpi)\n",
    "result=pd.DataFrame(pca_result, columns=['PCA%i' % i for i in range(3)])\n",
    "result['category']=pd.Series(yv)\n"
   ]
  },
  {
   "cell_type": "code",
   "execution_count": 88,
   "metadata": {},
   "outputs": [],
   "source": [
    "result['my_color'] = result['my_color'].fillna('w')"
   ]
  },
  {
   "cell_type": "code",
   "execution_count": 90,
   "metadata": {},
   "outputs": [
    {
     "data": {
      "text/plain": [
       "Text(0.5,0.92,'PCA on the iris data set')"
      ]
     },
     "execution_count": 90,
     "metadata": {},
     "output_type": "execute_result"
    },
    {
     "data": {
      "image/png": "[encoded data removed]",
      "text/plain": [
       "<Figure size 432x288 with 1 Axes>"
      ]
     },
     "metadata": {
      "needs_background": "light"
     },
     "output_type": "display_data"
    }
   ],
   "source": [
    " \n",
    "# Plot initialisation\n",
    "fig = plt.figure()\n",
    "ax = fig.add_subplot(111, projection='3d')\n",
    "ax.scatter(result['PCA0'], result['PCA1'], result['PCA2'], c=result['category'], cmap=\"Set2_r\", s=60)\n",
    " \n",
    "# make simple, bare axis lines through space:\n",
    "xAxisLine = ((min(result['PCA0']), max(result['PCA0'])), (0, 0), (0,0))\n",
    "ax.plot(xAxisLine[0], xAxisLine[1], xAxisLine[2], 'r')\n",
    "yAxisLine = ((0, 0), (min(result['PCA1']), max(result['PCA1'])), (0,0))\n",
    "ax.plot(yAxisLine[0], yAxisLine[1], yAxisLine[2], 'r')\n",
    "zAxisLine = ((0, 0), (0,0), (min(result['PCA2']), max(result['PCA2'])))\n",
    "ax.plot(zAxisLine[0], zAxisLine[1], zAxisLine[2], 'r')\n",
    " \n",
    "# label the axes\n",
    "ax.set_xlabel(\"PC1\")\n",
    "ax.set_ylabel(\"PC2\")\n",
    "ax.set_zlabel(\"PC3\")\n",
    "ax.set_title(\"PCA on the iris data set\")\n",
    "#plt.show()\n"
   ]
  },
  {
   "cell_type": "code",
   "execution_count": null,
   "metadata": {},
   "outputs": [],
   "source": []
  }
 ],
 "metadata": {
  "kernelspec": {
   "display_name": "Python 3",
   "language": "python",
   "name": "python3"
  },
  "language_info": {
   "codemirror_mode": {
    "name": "ipython",
    "version": 3
   },
   "file_extension": ".py",
   "mimetype": "text/x-python",
   "name": "python",
   "nbconvert_exporter": "python",
   "pygments_lexer": "ipython3",
   "version": "3.6.6"
  }
 },
 "nbformat": 4,
 "nbformat_minor": 2
}
