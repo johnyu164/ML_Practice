{
 "cells": [
  {
   "cell_type": "code",
   "execution_count": 1,
   "metadata": {},
   "outputs": [],
   "source": [
    "%matplotlib inline\n",
    "\n",
    "import re\n",
    "import pandas as pd\n",
    "import os\n",
    "import seaborn as sns\n",
    "\n"
   ]
  },
  {
   "cell_type": "code",
   "execution_count": 2,
   "metadata": {},
   "outputs": [],
   "source": [
    "df = pd.read_csv('data/data_uniqcontent.csv')"
   ]
  },
  {
   "cell_type": "code",
   "execution_count": 3,
   "metadata": {},
   "outputs": [
    {
     "data": {
      "text/plain": [
       "(81651, 9)"
      ]
     },
     "execution_count": 3,
     "metadata": {},
     "output_type": "execute_result"
    }
   ],
   "source": [
    "df.shape"
   ]
  },
  {
   "cell_type": "code",
   "execution_count": 4,
   "metadata": {},
   "outputs": [
    {
     "data": {
      "text/html": [
       "<div>\n",
       "<style scoped>\n",
       "    .dataframe tbody tr th:only-of-type {\n",
       "        vertical-align: middle;\n",
       "    }\n",
       "\n",
       "    .dataframe tbody tr th {\n",
       "        vertical-align: top;\n",
       "    }\n",
       "\n",
       "    .dataframe thead th {\n",
       "        text-align: right;\n",
       "    }\n",
       "</style>\n",
       "<table border=\"1\" class=\"dataframe\">\n",
       "  <thead>\n",
       "    <tr style=\"text-align: right;\">\n",
       "      <th></th>\n",
       "      <th>url</th>\n",
       "      <th>eigenWords</th>\n",
       "      <th>topKeyWords</th>\n",
       "      <th>content</th>\n",
       "      <th>title</th>\n",
       "      <th>class_no</th>\n",
       "      <th>sentences</th>\n",
       "      <th>sentences_1000</th>\n",
       "      <th>sentences_1000_str</th>\n",
       "    </tr>\n",
       "  </thead>\n",
       "  <tbody>\n",
       "    <tr>\n",
       "      <th>0</th>\n",
       "      <td>http://www.topgeartw.com/?p=8456</td>\n",
       "      <td>['content', '豪哥', 'com', 'jpg', 'uploads', 'ww...</td>\n",
       "      <td>['chao', 'com', 'content', 'image', 'info', 'i...</td>\n",
       "      <td>NaN</td>\n",
       "      <td>豪哥發威 便知有沒有 – TopGear</td>\n",
       "      <td>7</td>\n",
       "      <td>[]</td>\n",
       "      <td>[]</td>\n",
       "      <td>NaN</td>\n",
       "    </tr>\n",
       "    <tr>\n",
       "      <th>1</th>\n",
       "      <td>https://www.blocktempo.com/cryptoexchange-max-...</td>\n",
       "      <td>['交易', '基於', '交易所', '宣布', '以太', '貨幣', 'usdt', ...</td>\n",
       "      <td>['asset', 'asset exchange', 'coin', 'doubt', '...</td>\n",
       "      <td>\b4月23日晚間，7點46分，Maicoin旗下的虛擬貨幣交易所MaicoinAssetEx...</td>\n",
       "      <td>【MAX交易所宣布支援USDT】基於以太坊 ERC-20 的 USDT 跟原本的USDT差在...</td>\n",
       "      <td>8</td>\n",
       "      <td>['\\x08', '月', '日', '晚間', '點', '分', 'Maicoin', ...</td>\n",
       "      <td>['\\x08', '月', '日', '晚間', '點', '分', 'Maicoin', ...</td>\n",
       "      <td>\b 月 日 晚間 點 分 Maicoin 旗下 虛擬 貨幣 交易所 MaicoinAsset...</td>\n",
       "    </tr>\n",
       "    <tr>\n",
       "      <th>2</th>\n",
       "      <td>http://womany.net/read/article/15331?ref=rss&amp;u...</td>\n",
       "      <td>['工作', '轉職', '什麼', '自己', '公司', '辭職', '這份', '滿意...</td>\n",
       "      <td>['一下', '一個', '一定', '一年', '一樣', '一直', '下一', '不一...</td>\n",
       "      <td>\b你有轉職的考量嗎？你現今的工作可以符合你對未來人生的規劃嗎？透過五個轉職思考向度，檢視自己...</td>\n",
       "      <td>年前轉職：什麼情況下，你該毫不猶豫的換工作？｜女人迷 Womany</td>\n",
       "      <td>10</td>\n",
       "      <td>['\\x08', '轉職', '考量', '現今', '工作', '符合', '未來', '...</td>\n",
       "      <td>['\\x08', '轉職', '考量', '現今', '工作', '符合', '未來', '...</td>\n",
       "      <td>\b 轉職 考量 現今 工作 符合 未來 人生 規劃 透過 五個 轉職 思考 向度 檢視 是否...</td>\n",
       "    </tr>\n",
       "    <tr>\n",
       "      <th>3</th>\n",
       "      <td>https://www.blocktempo.com/facebook-we-cant-co...</td>\n",
       "      <td>['數據', '區塊', '所有', '資料', '透過', '中心化', '市場', '用...</td>\n",
       "      <td>['analytica', 'cambridge', 'cambridge analytic...</td>\n",
       "      <td>\b在網路時代，金錢可能不再是最吸引人事物，有一群人正覬覦著你的資料。透過數據收買你的心早在2...</td>\n",
       "      <td>【獨立觀點】當臉書用戶個資遭濫用，區塊鏈卻試圖幫你拿回「數據所有權」 – BlockTemp...</td>\n",
       "      <td>8</td>\n",
       "      <td>['\\x08', '網路', '時代', '金錢', '最', '吸引', '人', '事物...</td>\n",
       "      <td>['\\x08', '網路', '時代', '金錢', '最', '吸引', '人', '事物...</td>\n",
       "      <td>\b 網路 時代 金錢 最 吸引 人 事物 一群 人正 覬覦 資料 透過 數據 收買 心早 美...</td>\n",
       "    </tr>\n",
       "    <tr>\n",
       "      <th>4</th>\n",
       "      <td>https://www.blocktempo.com/facebook-we-cant-co...</td>\n",
       "      <td>['數據', '區塊', '所有', '資料', '臉書', '透過', '用戶', '中心...</td>\n",
       "      <td>['cambrigde', 'cambrigde analytica', 'datummar...</td>\n",
       "      <td>\b在網路時代，金錢可能不再是最吸引人事物，有一群人正覬覦著你的資料。透過數據收買你的心早在2...</td>\n",
       "      <td>【獨立觀點】當臉書用戶個資造濫用，區塊鏈卻試圖幫你拿回「數據所有權」 – BlockTemp...</td>\n",
       "      <td>8</td>\n",
       "      <td>['\\x08', '網路', '時代', '金錢', '最', '吸引', '人', '事物...</td>\n",
       "      <td>['\\x08', '網路', '時代', '金錢', '最', '吸引', '人', '事物...</td>\n",
       "      <td>\b 網路 時代 金錢 最 吸引 人 事物 一群 人正 覬覦 資料 透過 數據 收買 心早 美...</td>\n",
       "    </tr>\n",
       "  </tbody>\n",
       "</table>\n",
       "</div>"
      ],
      "text/plain": [
       "                                                 url  \\\n",
       "0                   http://www.topgeartw.com/?p=8456   \n",
       "1  https://www.blocktempo.com/cryptoexchange-max-...   \n",
       "2  http://womany.net/read/article/15331?ref=rss&u...   \n",
       "3  https://www.blocktempo.com/facebook-we-cant-co...   \n",
       "4  https://www.blocktempo.com/facebook-we-cant-co...   \n",
       "\n",
       "                                          eigenWords  \\\n",
       "0  ['content', '豪哥', 'com', 'jpg', 'uploads', 'ww...   \n",
       "1  ['交易', '基於', '交易所', '宣布', '以太', '貨幣', 'usdt', ...   \n",
       "2  ['工作', '轉職', '什麼', '自己', '公司', '辭職', '這份', '滿意...   \n",
       "3  ['數據', '區塊', '所有', '資料', '透過', '中心化', '市場', '用...   \n",
       "4  ['數據', '區塊', '所有', '資料', '臉書', '透過', '用戶', '中心...   \n",
       "\n",
       "                                         topKeyWords  \\\n",
       "0  ['chao', 'com', 'content', 'image', 'info', 'i...   \n",
       "1  ['asset', 'asset exchange', 'coin', 'doubt', '...   \n",
       "2  ['一下', '一個', '一定', '一年', '一樣', '一直', '下一', '不一...   \n",
       "3  ['analytica', 'cambridge', 'cambridge analytic...   \n",
       "4  ['cambrigde', 'cambrigde analytica', 'datummar...   \n",
       "\n",
       "                                             content  \\\n",
       "0                                                NaN   \n",
       "1  \b4月23日晚間，7點46分，Maicoin旗下的虛擬貨幣交易所MaicoinAssetEx...   \n",
       "2  \b你有轉職的考量嗎？你現今的工作可以符合你對未來人生的規劃嗎？透過五個轉職思考向度，檢視自己...   \n",
       "3  \b在網路時代，金錢可能不再是最吸引人事物，有一群人正覬覦著你的資料。透過數據收買你的心早在2...   \n",
       "4  \b在網路時代，金錢可能不再是最吸引人事物，有一群人正覬覦著你的資料。透過數據收買你的心早在2...   \n",
       "\n",
       "                                               title  class_no  \\\n",
       "0                               豪哥發威 便知有沒有 – TopGear         7   \n",
       "1  【MAX交易所宣布支援USDT】基於以太坊 ERC-20 的 USDT 跟原本的USDT差在...         8   \n",
       "2                  年前轉職：什麼情況下，你該毫不猶豫的換工作？｜女人迷 Womany        10   \n",
       "3  【獨立觀點】當臉書用戶個資遭濫用，區塊鏈卻試圖幫你拿回「數據所有權」 – BlockTemp...         8   \n",
       "4  【獨立觀點】當臉書用戶個資造濫用，區塊鏈卻試圖幫你拿回「數據所有權」 – BlockTemp...         8   \n",
       "\n",
       "                                           sentences  \\\n",
       "0                                                 []   \n",
       "1  ['\\x08', '月', '日', '晚間', '點', '分', 'Maicoin', ...   \n",
       "2  ['\\x08', '轉職', '考量', '現今', '工作', '符合', '未來', '...   \n",
       "3  ['\\x08', '網路', '時代', '金錢', '最', '吸引', '人', '事物...   \n",
       "4  ['\\x08', '網路', '時代', '金錢', '最', '吸引', '人', '事物...   \n",
       "\n",
       "                                      sentences_1000  \\\n",
       "0                                                 []   \n",
       "1  ['\\x08', '月', '日', '晚間', '點', '分', 'Maicoin', ...   \n",
       "2  ['\\x08', '轉職', '考量', '現今', '工作', '符合', '未來', '...   \n",
       "3  ['\\x08', '網路', '時代', '金錢', '最', '吸引', '人', '事物...   \n",
       "4  ['\\x08', '網路', '時代', '金錢', '最', '吸引', '人', '事物...   \n",
       "\n",
       "                                  sentences_1000_str  \n",
       "0                                                NaN  \n",
       "1  \b 月 日 晚間 點 分 Maicoin 旗下 虛擬 貨幣 交易所 MaicoinAsset...  \n",
       "2  \b 轉職 考量 現今 工作 符合 未來 人生 規劃 透過 五個 轉職 思考 向度 檢視 是否...  \n",
       "3  \b 網路 時代 金錢 最 吸引 人 事物 一群 人正 覬覦 資料 透過 數據 收買 心早 美...  \n",
       "4  \b 網路 時代 金錢 最 吸引 人 事物 一群 人正 覬覦 資料 透過 數據 收買 心早 美...  "
      ]
     },
     "execution_count": 4,
     "metadata": {},
     "output_type": "execute_result"
    }
   ],
   "source": [
    "df.head()"
   ]
  },
  {
   "cell_type": "code",
   "execution_count": 5,
   "metadata": {},
   "outputs": [],
   "source": [
    "df['sentences_all_str'] = df['sentences'].apply(lambda x:\" \".join(eval(x)))"
   ]
  },
  {
   "cell_type": "code",
   "execution_count": 6,
   "metadata": {},
   "outputs": [],
   "source": [
    "# fileTrainSeg = df['sentences_all_str'].tolist()"
   ]
  },
  {
   "cell_type": "code",
   "execution_count": 26,
   "metadata": {},
   "outputs": [],
   "source": [
    "# fileSegWordDonePath ='./data/corpusSegDone.txt'\n",
    "# with open(fileSegWordDonePath,'wb') as fW:\n",
    "#     for sentence in fileTrainSeg:\n",
    "#         fW.write(sentence.encode('utf-8'))\n",
    "#         fW.write('\\n'.encode('utf-8'))"
   ]
  },
  {
   "cell_type": "code",
   "execution_count": 7,
   "metadata": {},
   "outputs": [],
   "source": [
    "# from gensim.models import word2vec\n",
    "# sentences = word2vec.LineSentence(\"./data/corpusSegDone.txt\")\n",
    "# model = word2vec.Word2Vec(sentences, size=300)\n"
   ]
  },
  {
   "cell_type": "code",
   "execution_count": 44,
   "metadata": {},
   "outputs": [],
   "source": [
    "# model.save(\"./word2vec.model\")"
   ]
  },
  {
   "cell_type": "code",
   "execution_count": 8,
   "metadata": {},
   "outputs": [
    {
     "data": {
      "text/plain": [
       "[('籃球', 0.7193766832351685),\n",
       " ('美式足球', 0.6886116862297058),\n",
       " ('棒球', 0.6833121180534363),\n",
       " ('網球', 0.6479264497756958),\n",
       " ('世界盃', 0.6253585815429688),\n",
       " ('小將', 0.6155495047569275),\n",
       " ('踢足球', 0.6152344942092896),\n",
       " ('足球隊', 0.614387571811676),\n",
       " ('橄欖球', 0.6126537919044495),\n",
       " ('足球運動', 0.6061677932739258)]"
      ]
     },
     "execution_count": 8,
     "metadata": {},
     "output_type": "execute_result"
    }
   ],
   "source": [
    "# model.most_similar(u\"足球\") "
   ]
  },
  {
   "cell_type": "code",
   "execution_count": 6,
   "metadata": {},
   "outputs": [
    {
     "ename": "NameError",
     "evalue": "name 'word2vec' is not defined",
     "output_type": "error",
     "traceback": [
      "\u001b[0;31m---------------------------------------------------------------------------\u001b[0m",
      "\u001b[0;31mNameError\u001b[0m                                 Traceback (most recent call last)",
      "\u001b[0;32m<ipython-input-6-4aa20a999094>\u001b[0m in \u001b[0;36m<module>\u001b[0;34m()\u001b[0m\n\u001b[0;32m----> 1\u001b[0;31m \u001b[0msentences\u001b[0m \u001b[0;34m=\u001b[0m \u001b[0mword2vec\u001b[0m\u001b[0;34m.\u001b[0m\u001b[0mLineSentence\u001b[0m\u001b[0;34m(\u001b[0m\u001b[0;34m\"./data/corpusSegDone.txt\"\u001b[0m\u001b[0;34m)\u001b[0m\u001b[0;34m\u001b[0m\u001b[0m\n\u001b[0m",
      "\u001b[0;31mNameError\u001b[0m: name 'word2vec' is not defined"
     ]
    }
   ],
   "source": [
    "sentences = word2vec.LineSentence(\"./data/corpusSegDone.txt\")"
   ]
  },
  {
   "cell_type": "code",
   "execution_count": 6,
   "metadata": {},
   "outputs": [],
   "source": [
    "from gensim import models\n",
    "wv_model = models.Word2Vec.load('./wiki/nwikiword2vec200.model')"
   ]
  },
  {
   "cell_type": "code",
   "execution_count": 9,
   "metadata": {},
   "outputs": [],
   "source": [
    "wv_model.build_vocab(sentences, update=True)"
   ]
  },
  {
   "cell_type": "code",
   "execution_count": 7,
   "metadata": {},
   "outputs": [],
   "source": [
    "from gensim.models import word2vec\n",
    "wv_model = word2vec.KeyedVectors.load_word2vec_format('./renmin_zh_tw.txt', binary=False)\n"
   ]
  },
  {
   "cell_type": "code",
   "execution_count": 8,
   "metadata": {},
   "outputs": [
    {
     "name": "stderr",
     "output_type": "stream",
     "text": [
      "Using TensorFlow backend.\n"
     ]
    }
   ],
   "source": [
    "from keras.preprocessing.text import Tokenizer\n",
    "from keras.preprocessing.sequence import pad_sequences\n",
    "from keras.utils import to_categorical\n",
    "import numpy as np"
   ]
  },
  {
   "cell_type": "code",
   "execution_count": 10,
   "metadata": {},
   "outputs": [],
   "source": [
    "df.drop(df[pd.isnull(df['sentences_1000_str'])].index, inplace=True)"
   ]
  },
  {
   "cell_type": "code",
   "execution_count": 11,
   "metadata": {},
   "outputs": [],
   "source": [
    "# df['sentences'] = df['sentences'].apply(lambda x:eval(x))\n",
    "# df['sentences_500'] = df['sentences'].apply(lambda x:x[0:500] if len(x)>500 else x)\n",
    "# df['sentences_500_str'] = df['sentences_500'].apply(lambda x:\" \".join(x))"
   ]
  },
  {
   "cell_type": "code",
   "execution_count": 11,
   "metadata": {},
   "outputs": [],
   "source": [
    "MAX_SEQUENCE_LENGTH = 1000\n",
    "EMBEDDING_DIM = 300\n",
    "tokenizer = Tokenizer()\n",
    "tokenizer.fit_on_texts(df['sentences_1000_str'])\n",
    "sequences = tokenizer.texts_to_sequences(df['sentences_1000_str'])\n",
    "word_index = tokenizer.word_index"
   ]
  },
  {
   "cell_type": "code",
   "execution_count": 14,
   "metadata": {},
   "outputs": [],
   "source": [
    "embeddings_index = {}\n",
    "word_vectors = wv_model.wv\n",
    "for word, vocab_obj in wv_model.wv.vocab.items():\n",
    "    embeddings_index[word] = word_vectors[word]"
   ]
  },
  {
   "cell_type": "code",
   "execution_count": 15,
   "metadata": {},
   "outputs": [],
   "source": [
    "embedding_matrix = np.zeros((len(word_index)+1, EMBEDDING_DIM))\n",
    "for word, i in word_index.items():\n",
    "    embedding_vector = embeddings_index.get(word)\n",
    "    if embedding_vector is not None:\n",
    "        embedding_matrix[i] = embedding_vector\n"
   ]
  },
  {
   "cell_type": "code",
   "execution_count": 21,
   "metadata": {},
   "outputs": [],
   "source": [
    "from keras.layers import Embedding\n",
    "embedding_layer = Embedding(len(word_index)+1,\n",
    "                            EMBEDDING_DIM,\n",
    "                            weights=[embedding_matrix],\n",
    "                            input_length=MAX_SEQUENCE_LENGTH,\n",
    "                            trainable=False)\n"
   ]
  },
  {
   "cell_type": "code",
   "execution_count": 22,
   "metadata": {},
   "outputs": [
    {
     "name": "stdout",
     "output_type": "stream",
     "text": [
      "Shape of data tensor: (81649, 1000)\n",
      "Shape of label tensor: (81649, 14)\n"
     ]
    }
   ],
   "source": [
    "all_data = pad_sequences(sequences, maxlen=MAX_SEQUENCE_LENGTH)\n",
    "labels = to_categorical(np.asarray(df['class_no']))\n",
    "print('Shape of data tensor:', all_data.shape)\n",
    "print('Shape of label tensor:', labels.shape)"
   ]
  },
  {
   "cell_type": "code",
   "execution_count": 23,
   "metadata": {},
   "outputs": [],
   "source": [
    "from sklearn.model_selection import train_test_split\n",
    "x_train,x_val,y_train,y_val = train_test_split(all_data,labels,test_size=0.3,stratify=labels)"
   ]
  },
  {
   "cell_type": "code",
   "execution_count": 24,
   "metadata": {},
   "outputs": [
    {
     "data": {
      "text/plain": [
       "((57154, 1000), (57154, 14))"
      ]
     },
     "execution_count": 24,
     "metadata": {},
     "output_type": "execute_result"
    }
   ],
   "source": [
    "x_train.shape,y_train.shape"
   ]
  },
  {
   "cell_type": "code",
   "execution_count": 25,
   "metadata": {},
   "outputs": [],
   "source": [
    "from keras import Model\n",
    "from keras.layers import Dense, Input, Flatten, Dropout\n",
    "from keras.layers import Conv1D, MaxPooling1D, Embedding\n",
    "\n",
    "sequence_input = Input(shape=(MAX_SEQUENCE_LENGTH,), dtype='int32')\n",
    "embedded_sequences = embedding_layer(sequence_input)\n",
    "x = Conv1D(filters=128, kernel_size=5, activation='relu')(embedded_sequences)\n",
    "x = MaxPooling1D(pool_size=5)(x)\n",
    "x = Conv1D(filters=128, kernel_size=5, activation='relu')(x)\n",
    "x = MaxPooling1D(pool_size=5)(x)\n",
    "x = Conv1D(filters=128, kernel_size=5, activation='relu')(x)\n",
    "x = MaxPooling1D(pool_size=35)(x)\n",
    "x = Flatten()(x)\n",
    "x = Dense(128, activation='relu')(x)\n",
    "preds = Dense(14, activation='softmax')(x)\n",
    "\n",
    "model = Model(sequence_input, preds)\n",
    "model.compile(loss='categorical_crossentropy',\n",
    "              optimizer='adam',\n",
    "              metrics=['acc'])\n"
   ]
  },
  {
   "cell_type": "code",
   "execution_count": 26,
   "metadata": {},
   "outputs": [
    {
     "name": "stdout",
     "output_type": "stream",
     "text": [
      "_________________________________________________________________\n",
      "Layer (type)                 Output Shape              Param #   \n",
      "=================================================================\n",
      "input_2 (InputLayer)         (None, 1000)              0         \n",
      "_________________________________________________________________\n",
      "embedding_2 (Embedding)      (None, 1000, 300)         209064600 \n",
      "_________________________________________________________________\n",
      "conv1d_2 (Conv1D)            (None, 996, 128)          192128    \n",
      "_________________________________________________________________\n",
      "max_pooling1d_1 (MaxPooling1 (None, 199, 128)          0         \n",
      "_________________________________________________________________\n",
      "conv1d_3 (Conv1D)            (None, 195, 128)          82048     \n",
      "_________________________________________________________________\n",
      "max_pooling1d_2 (MaxPooling1 (None, 39, 128)           0         \n",
      "_________________________________________________________________\n",
      "conv1d_4 (Conv1D)            (None, 35, 128)           82048     \n",
      "_________________________________________________________________\n",
      "max_pooling1d_3 (MaxPooling1 (None, 1, 128)            0         \n",
      "_________________________________________________________________\n",
      "flatten_1 (Flatten)          (None, 128)               0         \n",
      "_________________________________________________________________\n",
      "dense_1 (Dense)              (None, 128)               16512     \n",
      "_________________________________________________________________\n",
      "dense_2 (Dense)              (None, 14)                1806      \n",
      "=================================================================\n",
      "Total params: 209,439,142\n",
      "Trainable params: 374,542\n",
      "Non-trainable params: 209,064,600\n",
      "_________________________________________________________________\n"
     ]
    }
   ],
   "source": [
    "model.summary()"
   ]
  },
  {
   "cell_type": "code",
   "execution_count": 27,
   "metadata": {},
   "outputs": [
    {
     "name": "stdout",
     "output_type": "stream",
     "text": [
      "Train on 57154 samples, validate on 24495 samples\n",
      "Epoch 1/5\n",
      "57154/57154 [==============================] - 15s 269us/step - loss: 0.9367 - acc: 0.6886 - val_loss: 0.7121 - val_acc: 0.7652\n",
      "Epoch 2/5\n",
      "57154/57154 [==============================] - 14s 241us/step - loss: 0.6161 - acc: 0.7920 - val_loss: 0.6079 - val_acc: 0.7918\n",
      "Epoch 3/5\n",
      "57154/57154 [==============================] - 14s 241us/step - loss: 0.5244 - acc: 0.8182 - val_loss: 0.5945 - val_acc: 0.7936\n",
      "Epoch 4/5\n",
      "57154/57154 [==============================] - 14s 239us/step - loss: 0.4561 - acc: 0.8371 - val_loss: 0.5812 - val_acc: 0.7993\n",
      "Epoch 5/5\n",
      "57154/57154 [==============================] - 14s 240us/step - loss: 0.3875 - acc: 0.8607 - val_loss: 0.6044 - val_acc: 0.7981\n"
     ]
    },
    {
     "data": {
      "text/plain": [
       "<keras.callbacks.History at 0x7f9ef900aac8>"
      ]
     },
     "execution_count": 27,
     "metadata": {},
     "output_type": "execute_result"
    }
   ],
   "source": [
    "model.fit(x_train, y_train, validation_data=(x_val, y_val), epochs=5, batch_size=128)"
   ]
  },
  {
   "cell_type": "code",
   "execution_count": 19,
   "metadata": {},
   "outputs": [],
   "source": [
    "model.save('cnnmodelwv.h5')"
   ]
  },
  {
   "cell_type": "code",
   "execution_count": 82,
   "metadata": {},
   "outputs": [],
   "source": []
  },
  {
   "cell_type": "code",
   "execution_count": null,
   "metadata": {},
   "outputs": [],
   "source": []
  }
 ],
 "metadata": {
  "kernelspec": {
   "display_name": "Python 3",
   "language": "python",
   "name": "python3"
  },
  "language_info": {
   "codemirror_mode": {
    "name": "ipython",
    "version": 3
   },
   "file_extension": ".py",
   "mimetype": "text/x-python",
   "name": "python",
   "nbconvert_exporter": "python",
   "pygments_lexer": "ipython3",
   "version": "3.6.6"
  }
 },
 "nbformat": 4,
 "nbformat_minor": 2
}
